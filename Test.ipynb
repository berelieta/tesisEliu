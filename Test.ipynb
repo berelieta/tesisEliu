{
 "cells": [
  {
   "cell_type": "code",
   "execution_count": 1,
   "metadata": {},
   "outputs": [],
   "source": [
    "# Dependencies\n",
    "import pandas as pd\n",
    "import numpy as np\n",
    "import requests\n",
    "import json\n",
    "from pprint import pprint\n",
    "import matplotlib.pyplot as plt\n",
    "\n",
    "import psycopg2 as pg\n",
    "from sklearn import preprocessing\n",
    "from sklearn.neighbors import KNeighborsClassifier"
   ]
  },
  {
   "cell_type": "code",
   "execution_count": 2,
   "metadata": {},
   "outputs": [],
   "source": [
    "le = preprocessing.LabelEncoder()"
   ]
  },
  {
   "cell_type": "code",
   "execution_count": 3,
   "metadata": {},
   "outputs": [
    {
     "data": {
      "text/html": [
       "<div>\n",
       "<style scoped>\n",
       "    .dataframe tbody tr th:only-of-type {\n",
       "        vertical-align: middle;\n",
       "    }\n",
       "\n",
       "    .dataframe tbody tr th {\n",
       "        vertical-align: top;\n",
       "    }\n",
       "\n",
       "    .dataframe thead th {\n",
       "        text-align: right;\n",
       "    }\n",
       "</style>\n",
       "<table border=\"1\" class=\"dataframe\">\n",
       "  <thead>\n",
       "    <tr style=\"text-align: right;\">\n",
       "      <th></th>\n",
       "      <th>PACIENTE</th>\n",
       "      <th>EXPEDIENTE</th>\n",
       "      <th>GENERO</th>\n",
       "      <th>EDAD</th>\n",
       "      <th>ESCOLARIDAD</th>\n",
       "      <th>NIVEL SOCIOECONÓMICO</th>\n",
       "      <th>DIABETES</th>\n",
       "      <th>HAS</th>\n",
       "      <th>TABAQUISMO</th>\n",
       "      <th>DX ONCOLÓGICO</th>\n",
       "      <th>...</th>\n",
       "      <th>LINFOCITOS</th>\n",
       "      <th>PLAQUETAS</th>\n",
       "      <th>HEMOGLOBINA</th>\n",
       "      <th>VSG</th>\n",
       "      <th>PCR</th>\n",
       "      <th>DD</th>\n",
       "      <th>FIBRINÓGENO</th>\n",
       "      <th>ALBÚMINA</th>\n",
       "      <th>FERRITINA</th>\n",
       "      <th>SUPERVIVENCIA</th>\n",
       "    </tr>\n",
       "  </thead>\n",
       "  <tbody>\n",
       "    <tr>\n",
       "      <th>0</th>\n",
       "      <td>1</td>\n",
       "      <td>42823</td>\n",
       "      <td>FEMENINO</td>\n",
       "      <td>75</td>\n",
       "      <td>PRIMARIA COMPLETA</td>\n",
       "      <td>1</td>\n",
       "      <td>NO</td>\n",
       "      <td>NO</td>\n",
       "      <td>NO</td>\n",
       "      <td>CÁNCER DE LARINGE</td>\n",
       "      <td>...</td>\n",
       "      <td>0.24</td>\n",
       "      <td>48</td>\n",
       "      <td>9.7</td>\n",
       "      <td>50</td>\n",
       "      <td>27.16</td>\n",
       "      <td>13330</td>\n",
       "      <td>713</td>\n",
       "      <td>3.1</td>\n",
       "      <td>NaN</td>\n",
       "      <td>10 DÍAS</td>\n",
       "    </tr>\n",
       "    <tr>\n",
       "      <th>1</th>\n",
       "      <td>2</td>\n",
       "      <td>183500</td>\n",
       "      <td>MASCULINO</td>\n",
       "      <td>68</td>\n",
       "      <td>LICENCIATURA INCOMPLETA</td>\n",
       "      <td>1</td>\n",
       "      <td>NO</td>\n",
       "      <td>SI</td>\n",
       "      <td>NO</td>\n",
       "      <td>CÁNCER DE PRÓSTATA</td>\n",
       "      <td>...</td>\n",
       "      <td>1.20</td>\n",
       "      <td>267</td>\n",
       "      <td>14.6</td>\n",
       "      <td>42</td>\n",
       "      <td>27.16</td>\n",
       "      <td>960</td>\n",
       "      <td>709</td>\n",
       "      <td>3.7</td>\n",
       "      <td>NaN</td>\n",
       "      <td>5 DÍAS</td>\n",
       "    </tr>\n",
       "    <tr>\n",
       "      <th>2</th>\n",
       "      <td>3</td>\n",
       "      <td>190045</td>\n",
       "      <td>MASCULINO</td>\n",
       "      <td>67</td>\n",
       "      <td>PREPARATORIA COMPLETA</td>\n",
       "      <td>1</td>\n",
       "      <td>NO</td>\n",
       "      <td>NO</td>\n",
       "      <td>SI</td>\n",
       "      <td>CÁNCER DE PULMON</td>\n",
       "      <td>...</td>\n",
       "      <td>0.60</td>\n",
       "      <td>33</td>\n",
       "      <td>13.9</td>\n",
       "      <td>42</td>\n",
       "      <td>16.51</td>\n",
       "      <td>26453</td>\n",
       "      <td>418</td>\n",
       "      <td>2.8</td>\n",
       "      <td>1473.0</td>\n",
       "      <td>4 DÍAS</td>\n",
       "    </tr>\n",
       "    <tr>\n",
       "      <th>3</th>\n",
       "      <td>4</td>\n",
       "      <td>190509</td>\n",
       "      <td>MASCULINO</td>\n",
       "      <td>67</td>\n",
       "      <td>PRIMARIA INCOMPLETA</td>\n",
       "      <td>2</td>\n",
       "      <td>NO</td>\n",
       "      <td>NO</td>\n",
       "      <td>SI</td>\n",
       "      <td>MESOTELIOMA EPITELOIDE</td>\n",
       "      <td>...</td>\n",
       "      <td>0.70</td>\n",
       "      <td>155</td>\n",
       "      <td>10.0</td>\n",
       "      <td>59</td>\n",
       "      <td>23.85</td>\n",
       "      <td>3580</td>\n",
       "      <td>640</td>\n",
       "      <td>2.5</td>\n",
       "      <td>NaN</td>\n",
       "      <td>15 DÍAS</td>\n",
       "    </tr>\n",
       "    <tr>\n",
       "      <th>4</th>\n",
       "      <td>5</td>\n",
       "      <td>192004</td>\n",
       "      <td>FEMENINO</td>\n",
       "      <td>71</td>\n",
       "      <td>PRIMARIA COMPLETA</td>\n",
       "      <td>1</td>\n",
       "      <td>SI</td>\n",
       "      <td>NO</td>\n",
       "      <td>NO</td>\n",
       "      <td>MIELOMA MÚLTIPLE</td>\n",
       "      <td>...</td>\n",
       "      <td>0.60</td>\n",
       "      <td>110</td>\n",
       "      <td>9.5</td>\n",
       "      <td>59</td>\n",
       "      <td>23.85</td>\n",
       "      <td>3580</td>\n",
       "      <td>640</td>\n",
       "      <td>2.5</td>\n",
       "      <td>NaN</td>\n",
       "      <td>15 DÍAS</td>\n",
       "    </tr>\n",
       "  </tbody>\n",
       "</table>\n",
       "<p>5 rows × 31 columns</p>\n",
       "</div>"
      ],
      "text/plain": [
       "   PACIENTE  EXPEDIENTE     GENERO  EDAD              ESCOLARIDAD  \\\n",
       "0         1       42823   FEMENINO    75        PRIMARIA COMPLETA   \n",
       "1         2      183500  MASCULINO    68  LICENCIATURA INCOMPLETA   \n",
       "2         3      190045  MASCULINO    67    PREPARATORIA COMPLETA   \n",
       "3         4      190509  MASCULINO    67      PRIMARIA INCOMPLETA   \n",
       "4         5      192004   FEMENINO    71        PRIMARIA COMPLETA   \n",
       "\n",
       "  NIVEL SOCIOECONÓMICO DIABETES HAS TABAQUISMO           DX ONCOLÓGICO  ...  \\\n",
       "0                    1       NO  NO         NO       CÁNCER DE LARINGE  ...   \n",
       "1                    1       NO  SI         NO      CÁNCER DE PRÓSTATA  ...   \n",
       "2                    1       NO  NO         SI        CÁNCER DE PULMON  ...   \n",
       "3                    2       NO  NO         SI  MESOTELIOMA EPITELOIDE  ...   \n",
       "4                    1       SI  NO         NO        MIELOMA MÚLTIPLE  ...   \n",
       "\n",
       "   LINFOCITOS PLAQUETAS HEMOGLOBINA VSG    PCR     DD FIBRINÓGENO ALBÚMINA  \\\n",
       "0        0.24        48         9.7  50  27.16  13330         713      3.1   \n",
       "1        1.20       267        14.6  42  27.16    960         709      3.7   \n",
       "2        0.60        33        13.9  42  16.51  26453         418      2.8   \n",
       "3        0.70       155        10.0  59  23.85   3580         640      2.5   \n",
       "4        0.60       110         9.5  59  23.85   3580         640      2.5   \n",
       "\n",
       "  FERRITINA SUPERVIVENCIA  \n",
       "0       NaN       10 DÍAS  \n",
       "1       NaN        5 DÍAS  \n",
       "2    1473.0        4 DÍAS  \n",
       "3       NaN       15 DÍAS  \n",
       "4       NaN       15 DÍAS  \n",
       "\n",
       "[5 rows x 31 columns]"
      ]
     },
     "execution_count": 3,
     "metadata": {},
     "output_type": "execute_result"
    }
   ],
   "source": [
    "\n",
    "# csv file path\n",
    "df = \"/Users/berelieta/Desktop/tesisEliu/Resources/BASEDEDATOSELIU.csv\"\n",
    "\n",
    "# Import csv file as a DataFrame\n",
    "df = pd.read_csv(df,low_memory=False)\n",
    "df.head()"
   ]
  },
  {
   "cell_type": "code",
   "execution_count": 4,
   "metadata": {},
   "outputs": [],
   "source": [
    "dfcovid = df"
   ]
  },
  {
   "cell_type": "markdown",
   "metadata": {},
   "source": [
    "# GÉNERO"
   ]
  },
  {
   "cell_type": "code",
   "execution_count": 5,
   "metadata": {},
   "outputs": [
    {
     "data": {
      "text/html": [
       "<div>\n",
       "<style scoped>\n",
       "    .dataframe tbody tr th:only-of-type {\n",
       "        vertical-align: middle;\n",
       "    }\n",
       "\n",
       "    .dataframe tbody tr th {\n",
       "        vertical-align: top;\n",
       "    }\n",
       "\n",
       "    .dataframe thead th {\n",
       "        text-align: right;\n",
       "    }\n",
       "</style>\n",
       "<table border=\"1\" class=\"dataframe\">\n",
       "  <thead>\n",
       "    <tr style=\"text-align: right;\">\n",
       "      <th></th>\n",
       "      <th>GENERO</th>\n",
       "      <th>NUM</th>\n",
       "    </tr>\n",
       "  </thead>\n",
       "  <tbody>\n",
       "    <tr>\n",
       "      <th>0</th>\n",
       "      <td>FEMENINO</td>\n",
       "      <td>13</td>\n",
       "    </tr>\n",
       "    <tr>\n",
       "      <th>1</th>\n",
       "      <td>MASCULINO</td>\n",
       "      <td>17</td>\n",
       "    </tr>\n",
       "  </tbody>\n",
       "</table>\n",
       "</div>"
      ],
      "text/plain": [
       "      GENERO  NUM\n",
       "0   FEMENINO   13\n",
       "1  MASCULINO   17"
      ]
     },
     "execution_count": 5,
     "metadata": {},
     "output_type": "execute_result"
    }
   ],
   "source": [
    "gender_df =dfcovid.groupby([\"GENERO\"]).size().reset_index(name='NUM')\n",
    "gender_df\n"
   ]
  },
  {
   "cell_type": "code",
   "execution_count": 6,
   "metadata": {},
   "outputs": [
    {
     "data": {
      "image/png": "[encoded data removed]",
      "text/plain": [
       "<Figure size 432x288 with 1 Axes>"
      ]
     },
     "metadata": {
      "needs_background": "light"
     },
     "output_type": "display_data"
    }
   ],
   "source": [
    "a = dfcovid[\"GENERO\"].value_counts()\n",
    "%matplotlib inline\n",
    "a.plot(kind='bar')\n",
    "\n",
    "plt.xlabel(\"Género\")\n",
    "plt.ylabel(\"Numero de casos\")\n",
    "plt.title(\"Grafica por género\")\n",
    "\n",
    "#Save image\n",
    "#plt.savefig(\"Resources/IMG/gender.png\")\n",
    "plt.show()"
   ]
  },
  {
   "cell_type": "code",
   "execution_count": 7,
   "metadata": {},
   "outputs": [
    {
     "data": {
      "image/png": "[encoded data removed]",
      "text/plain": [
       "<Figure size 432x288 with 1 Axes>"
      ]
     },
     "metadata": {
      "needs_background": "light"
     },
     "output_type": "display_data"
    }
   ],
   "source": [
    "#arrays\n",
    "dataGender = gender_df[\"GENERO\"].to_list()\n",
    "\n",
    "# set width of bar\n",
    "barWidth = 0.25\n",
    " \n",
    "# set height of bar\n",
    "males = gender_df[gender_df.GENERO == 'MASCULINO']\n",
    "bars1 = males['NUM'].to_list()\n",
    "\n",
    "females = gender_df[gender_df.GENERO == 'FEMENINO']\n",
    "bars2 = females['NUM'].to_list()\n",
    " \n",
    "# Set position of bar on X axis\n",
    "r1 = np.arange(len(bars1))\n",
    "r2 = [x + barWidth for x in r1]\n",
    " \n",
    "# Make the plot\n",
    "plt.bar(r1, bars1, color='blue', width=barWidth, edgecolor='white', label='masculino')\n",
    "plt.bar(r2, bars2, color='pink', width=barWidth, edgecolor='white', label='femenino')\n",
    " \n",
    "# Add xticks on the middle of the group bars\n",
    "\n",
    "\n",
    "plt.xlabel('GÉNERO', fontweight='bold')\n",
    "#plt.xticks([r + barWidth for r in range(len(bars1))], dataGender)\n",
    "\n",
    "#Save image\n",
    "plt.savefig(\"Resources/IMG/Gender.png\")\n",
    " \n",
    "# Create legend & Show graphic\n",
    "plt.legend()\n",
    "plt.show()"
   ]
  },
  {
   "cell_type": "markdown",
   "metadata": {},
   "source": [
    "# EDAD"
   ]
  },
  {
   "cell_type": "code",
   "execution_count": 8,
   "metadata": {},
   "outputs": [
    {
     "data": {
      "text/html": [
       "<div>\n",
       "<style scoped>\n",
       "    .dataframe tbody tr th:only-of-type {\n",
       "        vertical-align: middle;\n",
       "    }\n",
       "\n",
       "    .dataframe tbody tr th {\n",
       "        vertical-align: top;\n",
       "    }\n",
       "\n",
       "    .dataframe thead th {\n",
       "        text-align: right;\n",
       "    }\n",
       "</style>\n",
       "<table border=\"1\" class=\"dataframe\">\n",
       "  <thead>\n",
       "    <tr style=\"text-align: right;\">\n",
       "      <th></th>\n",
       "      <th>EDAD</th>\n",
       "      <th>NUM</th>\n",
       "    </tr>\n",
       "  </thead>\n",
       "  <tbody>\n",
       "    <tr>\n",
       "      <th>0</th>\n",
       "      <td>63</td>\n",
       "      <td>1</td>\n",
       "    </tr>\n",
       "    <tr>\n",
       "      <th>1</th>\n",
       "      <td>64</td>\n",
       "      <td>1</td>\n",
       "    </tr>\n",
       "    <tr>\n",
       "      <th>2</th>\n",
       "      <td>65</td>\n",
       "      <td>3</td>\n",
       "    </tr>\n",
       "    <tr>\n",
       "      <th>3</th>\n",
       "      <td>66</td>\n",
       "      <td>1</td>\n",
       "    </tr>\n",
       "    <tr>\n",
       "      <th>4</th>\n",
       "      <td>67</td>\n",
       "      <td>4</td>\n",
       "    </tr>\n",
       "    <tr>\n",
       "      <th>5</th>\n",
       "      <td>68</td>\n",
       "      <td>2</td>\n",
       "    </tr>\n",
       "    <tr>\n",
       "      <th>6</th>\n",
       "      <td>69</td>\n",
       "      <td>3</td>\n",
       "    </tr>\n",
       "    <tr>\n",
       "      <th>7</th>\n",
       "      <td>71</td>\n",
       "      <td>3</td>\n",
       "    </tr>\n",
       "    <tr>\n",
       "      <th>8</th>\n",
       "      <td>72</td>\n",
       "      <td>2</td>\n",
       "    </tr>\n",
       "    <tr>\n",
       "      <th>9</th>\n",
       "      <td>73</td>\n",
       "      <td>2</td>\n",
       "    </tr>\n",
       "    <tr>\n",
       "      <th>10</th>\n",
       "      <td>74</td>\n",
       "      <td>1</td>\n",
       "    </tr>\n",
       "    <tr>\n",
       "      <th>11</th>\n",
       "      <td>75</td>\n",
       "      <td>2</td>\n",
       "    </tr>\n",
       "    <tr>\n",
       "      <th>12</th>\n",
       "      <td>76</td>\n",
       "      <td>1</td>\n",
       "    </tr>\n",
       "    <tr>\n",
       "      <th>13</th>\n",
       "      <td>78</td>\n",
       "      <td>1</td>\n",
       "    </tr>\n",
       "    <tr>\n",
       "      <th>14</th>\n",
       "      <td>79</td>\n",
       "      <td>1</td>\n",
       "    </tr>\n",
       "    <tr>\n",
       "      <th>15</th>\n",
       "      <td>84</td>\n",
       "      <td>1</td>\n",
       "    </tr>\n",
       "    <tr>\n",
       "      <th>16</th>\n",
       "      <td>88</td>\n",
       "      <td>1</td>\n",
       "    </tr>\n",
       "  </tbody>\n",
       "</table>\n",
       "</div>"
      ],
      "text/plain": [
       "    EDAD  NUM\n",
       "0     63    1\n",
       "1     64    1\n",
       "2     65    3\n",
       "3     66    1\n",
       "4     67    4\n",
       "5     68    2\n",
       "6     69    3\n",
       "7     71    3\n",
       "8     72    2\n",
       "9     73    2\n",
       "10    74    1\n",
       "11    75    2\n",
       "12    76    1\n",
       "13    78    1\n",
       "14    79    1\n",
       "15    84    1\n",
       "16    88    1"
      ]
     },
     "execution_count": 8,
     "metadata": {},
     "output_type": "execute_result"
    }
   ],
   "source": [
    "age_df =dfcovid.groupby([\"EDAD\"]).size().reset_index(name='NUM')\n",
    "age_df\n"
   ]
  },
  {
   "cell_type": "code",
   "execution_count": 49,
   "metadata": {},
   "outputs": [
    {
     "data": {
      "image/png": "[encoded data removed]",
      "text/plain": [
       "<Figure size 432x288 with 1 Axes>"
      ]
     },
     "metadata": {
      "needs_background": "light"
     },
     "output_type": "display_data"
    }
   ],
   "source": [
    "a = dfcovid[\"EDAD\"].value_counts()\n",
    "%matplotlib inline\n",
    "\n",
    "a.plot(kind='bar',color =['red', 'blue', 'purple', 'green', 'lavender'] )\n",
    "\n",
    "plt.xlabel(\"Edad\")\n",
    "plt.ylabel(\"Numero de casos\")\n",
    "plt.title(\"Grafica por edad\")\n",
    "\n",
    "#Save image\n",
    "#plt.savefig(\"Resources/IMG/Age.png\")\n",
    "plt.show()"
   ]
  },
  {
   "cell_type": "markdown",
   "metadata": {},
   "source": [
    "# ESCOLARIDAD"
   ]
  },
  {
   "cell_type": "code",
   "execution_count": 10,
   "metadata": {},
   "outputs": [
    {
     "data": {
      "text/html": [
       "<div>\n",
       "<style scoped>\n",
       "    .dataframe tbody tr th:only-of-type {\n",
       "        vertical-align: middle;\n",
       "    }\n",
       "\n",
       "    .dataframe tbody tr th {\n",
       "        vertical-align: top;\n",
       "    }\n",
       "\n",
       "    .dataframe thead th {\n",
       "        text-align: right;\n",
       "    }\n",
       "</style>\n",
       "<table border=\"1\" class=\"dataframe\">\n",
       "  <thead>\n",
       "    <tr style=\"text-align: right;\">\n",
       "      <th></th>\n",
       "      <th>ESCOLARIDAD</th>\n",
       "      <th>CONTEO</th>\n",
       "    </tr>\n",
       "  </thead>\n",
       "  <tbody>\n",
       "    <tr>\n",
       "      <th>0</th>\n",
       "      <td>ANALFABETA</td>\n",
       "      <td>1</td>\n",
       "    </tr>\n",
       "    <tr>\n",
       "      <th>1</th>\n",
       "      <td>BACHILLERATO TÉCNICO</td>\n",
       "      <td>1</td>\n",
       "    </tr>\n",
       "    <tr>\n",
       "      <th>2</th>\n",
       "      <td>LICENCIATURA COMPLETA</td>\n",
       "      <td>2</td>\n",
       "    </tr>\n",
       "    <tr>\n",
       "      <th>3</th>\n",
       "      <td>LICENCIATURA INCOMPLETA</td>\n",
       "      <td>1</td>\n",
       "    </tr>\n",
       "    <tr>\n",
       "      <th>4</th>\n",
       "      <td>POSGRADO</td>\n",
       "      <td>1</td>\n",
       "    </tr>\n",
       "    <tr>\n",
       "      <th>5</th>\n",
       "      <td>PREPARATORIA COMPLETA</td>\n",
       "      <td>3</td>\n",
       "    </tr>\n",
       "    <tr>\n",
       "      <th>6</th>\n",
       "      <td>PRIMARIA COMPLETA</td>\n",
       "      <td>8</td>\n",
       "    </tr>\n",
       "    <tr>\n",
       "      <th>7</th>\n",
       "      <td>PRIMARIA INCOMPLETA</td>\n",
       "      <td>9</td>\n",
       "    </tr>\n",
       "    <tr>\n",
       "      <th>8</th>\n",
       "      <td>SECUNDARIA COMPLETA</td>\n",
       "      <td>4</td>\n",
       "    </tr>\n",
       "  </tbody>\n",
       "</table>\n",
       "</div>"
      ],
      "text/plain": [
       "               ESCOLARIDAD  CONTEO\n",
       "0               ANALFABETA       1\n",
       "1     BACHILLERATO TÉCNICO       1\n",
       "2    LICENCIATURA COMPLETA       2\n",
       "3  LICENCIATURA INCOMPLETA       1\n",
       "4                 POSGRADO       1\n",
       "5    PREPARATORIA COMPLETA       3\n",
       "6        PRIMARIA COMPLETA       8\n",
       "7      PRIMARIA INCOMPLETA       9\n",
       "8      SECUNDARIA COMPLETA       4"
      ]
     },
     "execution_count": 10,
     "metadata": {},
     "output_type": "execute_result"
    }
   ],
   "source": [
    "escolaridad_df =dfcovid.groupby([\"ESCOLARIDAD\"]).size().reset_index(name='CONTEO')\n",
    "escolaridad_df"
   ]
  },
  {
   "cell_type": "code",
   "execution_count": 50,
   "metadata": {},
   "outputs": [
    {
     "data": {
      "image/png": "[encoded data removed]",
      "text/plain": [
       "<Figure size 432x288 with 1 Axes>"
      ]
     },
     "metadata": {
      "needs_background": "light"
     },
     "output_type": "display_data"
    }
   ],
   "source": [
    "a = dfcovid[\"ESCOLARIDAD\"].value_counts()\n",
    "%matplotlib inline\n",
    "a.plot(kind='bar', color =['red', 'blue', 'purple', 'green', 'lavender'] )\n",
    "\n",
    "plt.xlabel(\"Escolaridad\")\n",
    "plt.ylabel(\"Numero de casos\")\n",
    "plt.title(\"Grafica por escolaridad\")\n",
    "\n",
    "#Save image\n",
    "plt.savefig(\"Resources/IMG/escolaridad.png\")\n",
    "plt.show()"
   ]
  },
  {
   "cell_type": "code",
   "execution_count": 12,
   "metadata": {},
   "outputs": [
    {
     "data": {
      "text/html": [
       "<div>\n",
       "<style scoped>\n",
       "    .dataframe tbody tr th:only-of-type {\n",
       "        vertical-align: middle;\n",
       "    }\n",
       "\n",
       "    .dataframe tbody tr th {\n",
       "        vertical-align: top;\n",
       "    }\n",
       "\n",
       "    .dataframe thead th {\n",
       "        text-align: right;\n",
       "    }\n",
       "</style>\n",
       "<table border=\"1\" class=\"dataframe\">\n",
       "  <thead>\n",
       "    <tr style=\"text-align: right;\">\n",
       "      <th></th>\n",
       "      <th>PACIENTE</th>\n",
       "      <th>EXPEDIENTE</th>\n",
       "      <th>GENERO</th>\n",
       "      <th>EDAD</th>\n",
       "      <th>ESCOLARIDAD</th>\n",
       "      <th>NIVEL SOCIOECONÓMICO</th>\n",
       "      <th>DIABETES</th>\n",
       "      <th>HAS</th>\n",
       "      <th>TABAQUISMO</th>\n",
       "      <th>DX ONCOLÓGICO</th>\n",
       "      <th>...</th>\n",
       "      <th>LINFOCITOS</th>\n",
       "      <th>PLAQUETAS</th>\n",
       "      <th>HEMOGLOBINA</th>\n",
       "      <th>VSG</th>\n",
       "      <th>PCR</th>\n",
       "      <th>DD</th>\n",
       "      <th>FIBRINÓGENO</th>\n",
       "      <th>ALBÚMINA</th>\n",
       "      <th>FERRITINA</th>\n",
       "      <th>SUPERVIVENCIA</th>\n",
       "    </tr>\n",
       "  </thead>\n",
       "  <tbody>\n",
       "    <tr>\n",
       "      <th>0</th>\n",
       "      <td>1</td>\n",
       "      <td>42823</td>\n",
       "      <td>FEMENINO</td>\n",
       "      <td>75</td>\n",
       "      <td>PRIMARIA COMPLETA</td>\n",
       "      <td>1</td>\n",
       "      <td>NO</td>\n",
       "      <td>NO</td>\n",
       "      <td>NO</td>\n",
       "      <td>CÁNCER DE LARINGE</td>\n",
       "      <td>...</td>\n",
       "      <td>0.24</td>\n",
       "      <td>48</td>\n",
       "      <td>9.7</td>\n",
       "      <td>50</td>\n",
       "      <td>27.16</td>\n",
       "      <td>13330</td>\n",
       "      <td>713</td>\n",
       "      <td>3.1</td>\n",
       "      <td>NaN</td>\n",
       "      <td>10 DÍAS</td>\n",
       "    </tr>\n",
       "    <tr>\n",
       "      <th>1</th>\n",
       "      <td>2</td>\n",
       "      <td>183500</td>\n",
       "      <td>MASCULINO</td>\n",
       "      <td>68</td>\n",
       "      <td>LICENCIATURA INCOMPLETA</td>\n",
       "      <td>1</td>\n",
       "      <td>NO</td>\n",
       "      <td>SI</td>\n",
       "      <td>NO</td>\n",
       "      <td>CÁNCER DE PRÓSTATA</td>\n",
       "      <td>...</td>\n",
       "      <td>1.20</td>\n",
       "      <td>267</td>\n",
       "      <td>14.6</td>\n",
       "      <td>42</td>\n",
       "      <td>27.16</td>\n",
       "      <td>960</td>\n",
       "      <td>709</td>\n",
       "      <td>3.7</td>\n",
       "      <td>NaN</td>\n",
       "      <td>5 DÍAS</td>\n",
       "    </tr>\n",
       "    <tr>\n",
       "      <th>2</th>\n",
       "      <td>3</td>\n",
       "      <td>190045</td>\n",
       "      <td>MASCULINO</td>\n",
       "      <td>67</td>\n",
       "      <td>PREPARATORIA COMPLETA</td>\n",
       "      <td>1</td>\n",
       "      <td>NO</td>\n",
       "      <td>NO</td>\n",
       "      <td>SI</td>\n",
       "      <td>CÁNCER DE PULMON</td>\n",
       "      <td>...</td>\n",
       "      <td>0.60</td>\n",
       "      <td>33</td>\n",
       "      <td>13.9</td>\n",
       "      <td>42</td>\n",
       "      <td>16.51</td>\n",
       "      <td>26453</td>\n",
       "      <td>418</td>\n",
       "      <td>2.8</td>\n",
       "      <td>1473.0</td>\n",
       "      <td>4 DÍAS</td>\n",
       "    </tr>\n",
       "    <tr>\n",
       "      <th>3</th>\n",
       "      <td>4</td>\n",
       "      <td>190509</td>\n",
       "      <td>MASCULINO</td>\n",
       "      <td>67</td>\n",
       "      <td>PRIMARIA INCOMPLETA</td>\n",
       "      <td>2</td>\n",
       "      <td>NO</td>\n",
       "      <td>NO</td>\n",
       "      <td>SI</td>\n",
       "      <td>MESOTELIOMA EPITELOIDE</td>\n",
       "      <td>...</td>\n",
       "      <td>0.70</td>\n",
       "      <td>155</td>\n",
       "      <td>10.0</td>\n",
       "      <td>59</td>\n",
       "      <td>23.85</td>\n",
       "      <td>3580</td>\n",
       "      <td>640</td>\n",
       "      <td>2.5</td>\n",
       "      <td>NaN</td>\n",
       "      <td>15 DÍAS</td>\n",
       "    </tr>\n",
       "    <tr>\n",
       "      <th>4</th>\n",
       "      <td>5</td>\n",
       "      <td>192004</td>\n",
       "      <td>FEMENINO</td>\n",
       "      <td>71</td>\n",
       "      <td>PRIMARIA COMPLETA</td>\n",
       "      <td>1</td>\n",
       "      <td>SI</td>\n",
       "      <td>NO</td>\n",
       "      <td>NO</td>\n",
       "      <td>MIELOMA MÚLTIPLE</td>\n",
       "      <td>...</td>\n",
       "      <td>0.60</td>\n",
       "      <td>110</td>\n",
       "      <td>9.5</td>\n",
       "      <td>59</td>\n",
       "      <td>23.85</td>\n",
       "      <td>3580</td>\n",
       "      <td>640</td>\n",
       "      <td>2.5</td>\n",
       "      <td>NaN</td>\n",
       "      <td>15 DÍAS</td>\n",
       "    </tr>\n",
       "  </tbody>\n",
       "</table>\n",
       "<p>5 rows × 31 columns</p>\n",
       "</div>"
      ],
      "text/plain": [
       "   PACIENTE  EXPEDIENTE     GENERO  EDAD              ESCOLARIDAD  \\\n",
       "0         1       42823   FEMENINO    75        PRIMARIA COMPLETA   \n",
       "1         2      183500  MASCULINO    68  LICENCIATURA INCOMPLETA   \n",
       "2         3      190045  MASCULINO    67    PREPARATORIA COMPLETA   \n",
       "3         4      190509  MASCULINO    67      PRIMARIA INCOMPLETA   \n",
       "4         5      192004   FEMENINO    71        PRIMARIA COMPLETA   \n",
       "\n",
       "  NIVEL SOCIOECONÓMICO DIABETES HAS TABAQUISMO           DX ONCOLÓGICO  ...  \\\n",
       "0                    1       NO  NO         NO       CÁNCER DE LARINGE  ...   \n",
       "1                    1       NO  SI         NO      CÁNCER DE PRÓSTATA  ...   \n",
       "2                    1       NO  NO         SI        CÁNCER DE PULMON  ...   \n",
       "3                    2       NO  NO         SI  MESOTELIOMA EPITELOIDE  ...   \n",
       "4                    1       SI  NO         NO        MIELOMA MÚLTIPLE  ...   \n",
       "\n",
       "   LINFOCITOS PLAQUETAS HEMOGLOBINA VSG    PCR     DD FIBRINÓGENO ALBÚMINA  \\\n",
       "0        0.24        48         9.7  50  27.16  13330         713      3.1   \n",
       "1        1.20       267        14.6  42  27.16    960         709      3.7   \n",
       "2        0.60        33        13.9  42  16.51  26453         418      2.8   \n",
       "3        0.70       155        10.0  59  23.85   3580         640      2.5   \n",
       "4        0.60       110         9.5  59  23.85   3580         640      2.5   \n",
       "\n",
       "  FERRITINA SUPERVIVENCIA  \n",
       "0       NaN       10 DÍAS  \n",
       "1       NaN        5 DÍAS  \n",
       "2    1473.0        4 DÍAS  \n",
       "3       NaN       15 DÍAS  \n",
       "4       NaN       15 DÍAS  \n",
       "\n",
       "[5 rows x 31 columns]"
      ]
     },
     "execution_count": 12,
     "metadata": {},
     "output_type": "execute_result"
    }
   ],
   "source": [
    "dfcovid.head()"
   ]
  },
  {
   "cell_type": "markdown",
   "metadata": {},
   "source": [
    "# PIE VISUALIZATIONS"
   ]
  },
  {
   "cell_type": "code",
   "execution_count": 13,
   "metadata": {},
   "outputs": [
    {
     "data": {
      "image/png": "[encoded data removed]",
      "text/plain": [
       "<Figure size 432x288 with 1 Axes>"
      ]
     },
     "metadata": {},
     "output_type": "display_data"
    }
   ],
   "source": [
    "#Diabetes\n",
    "diabetes = dfcovid[\"DIABETES\"].value_counts().plot(kind='pie', autopct='%1.0f%%')\n",
    "\n",
    "#Save image\n",
    "plt.savefig(\"Resources/IMG/Diabetes.png\")"
   ]
  },
  {
   "cell_type": "code",
   "execution_count": 14,
   "metadata": {},
   "outputs": [
    {
     "data": {
      "image/png": "[encoded data removed]",
      "text/plain": [
       "<Figure size 432x288 with 1 Axes>"
      ]
     },
     "metadata": {},
     "output_type": "display_data"
    }
   ],
   "source": [
    "#Tabaquismo\n",
    "tabaquismo = dfcovid[\"TABAQUISMO\"].value_counts().plot(kind='pie', autopct='%1.0f%%')\n",
    "\n",
    "#Save image\n",
    "plt.savefig(\"Resources/IMG/Tabaquismo.png\")"
   ]
  },
  {
   "cell_type": "code",
   "execution_count": 15,
   "metadata": {},
   "outputs": [
    {
     "data": {
      "image/png": "[encoded data removed]",
      "text/plain": [
       "<Figure size 432x288 with 1 Axes>"
      ]
     },
     "metadata": {},
     "output_type": "display_data"
    }
   ],
   "source": [
    "#Obesidad\n",
    "obesidad = dfcovid[\"OBESIDAD\"].value_counts().plot(kind='pie', autopct='%1.0f%%')\n",
    "\n",
    "#Save image\n",
    "plt.savefig(\"Resources/IMG/Obesidad.png\")"
   ]
  },
  {
   "cell_type": "code",
   "execution_count": 16,
   "metadata": {},
   "outputs": [
    {
     "data": {
      "image/png": "[encoded data removed]",
      "text/plain": [
       "<Figure size 432x288 with 1 Axes>"
      ]
     },
     "metadata": {},
     "output_type": "display_data"
    }
   ],
   "source": [
    "#Delirium\n",
    "delirium = dfcovid[\"DELIRIUM\"].value_counts().plot(kind='pie', autopct='%1.0f%%')\n",
    "\n",
    "#Save image\n",
    "plt.savefig(\"Resources/IMG/Delirium.png\")"
   ]
  },
  {
   "cell_type": "code",
   "execution_count": 17,
   "metadata": {},
   "outputs": [
    {
     "data": {
      "image/png": "[encoded data removed]",
      "text/plain": [
       "<Figure size 432x288 with 1 Axes>"
      ]
     },
     "metadata": {},
     "output_type": "display_data"
    }
   ],
   "source": [
    "#Cardiopatia\n",
    "cardiopatia = dfcovid[\"CARDIOPATIA\"].value_counts().plot(kind='pie', autopct='%1.0f%%')\n",
    "\n",
    "#Save image\n",
    "plt.savefig(\"Resources/IMG/Cardiopatia.png\")"
   ]
  },
  {
   "cell_type": "markdown",
   "metadata": {},
   "source": [
    "# SUPERVIVENCIA"
   ]
  },
  {
   "cell_type": "code",
   "execution_count": 51,
   "metadata": {},
   "outputs": [
    {
     "data": {
      "image/png": "[encoded data removed]",
      "text/plain": [
       "<Figure size 432x288 with 1 Axes>"
      ]
     },
     "metadata": {
      "needs_background": "light"
     },
     "output_type": "display_data"
    }
   ],
   "source": [
    "a = dfcovid[\"SUPERVIVENCIA\"].value_counts()\n",
    "%matplotlib inline\n",
    "a.plot(kind='bar', color =['red', 'blue', 'purple', 'green', 'lavender'] )\n",
    "\n",
    "plt.xlabel(\"Supervivencia\")\n",
    "plt.ylabel(\"Numero de días\")\n",
    "plt.title(\"Grafica por supervivencia\")\n",
    "\n",
    "#Save image\n",
    "plt.savefig(\"Resources/IMG/Supervivencia.png\")\n",
    "plt.show()"
   ]
  },
  {
   "cell_type": "code",
   "execution_count": 28,
   "metadata": {},
   "outputs": [
    {
     "name": "stderr",
     "output_type": "stream",
     "text": [
      "/Users/berelieta/opt/anaconda3/lib/python3.7/site-packages/ipykernel_launcher.py:3: MatplotlibDeprecationWarning: Adding an axes using the same arguments as a previous axes currently reuses the earlier instance.  In a future version, a new instance will always be created and returned.  Meanwhile, this warning can be suppressed, and the future behavior ensured, by passing a unique label to each axes instance.\n",
      "  This is separate from the ipykernel package so we can avoid doing imports until\n",
      "/Users/berelieta/opt/anaconda3/lib/python3.7/site-packages/ipykernel_launcher.py:4: MatplotlibDeprecationWarning: Adding an axes using the same arguments as a previous axes currently reuses the earlier instance.  In a future version, a new instance will always be created and returned.  Meanwhile, this warning can be suppressed, and the future behavior ensured, by passing a unique label to each axes instance.\n",
      "  after removing the cwd from sys.path.\n"
     ]
    },
    {
     "data": {
      "text/plain": [
       "Text(0, 0.5, '')"
      ]
     },
     "execution_count": 28,
     "metadata": {},
     "output_type": "execute_result"
    },
    {
     "data": {
      "image/png": "[encoded data removed]",
      "text/plain": [
       "<Figure size 432x288 with 1 Axes>"
      ]
     },
     "metadata": {},
     "output_type": "display_data"
    }
   ],
   "source": [
    "#Supervivencia\n",
    "supervivencia = dfcovid[\"SUPERVIVENCIA\"].value_counts().plot(kind='pie', autopct='%1.0f%%')\n",
    "plt.axes().set_xlabel('')\n",
    "plt.axes().set_ylabel('')\n",
    "\n",
    "#plt.pie(sizes, explode=explode, labels=labels, colors=colors, autopct=\"%1.1f%%\", shadow=True, startangle=140)\n",
    "\n",
    "#Save image\n",
    "#plt.savefig(\"Resources/IMG/Supervivencia2.png\")"
   ]
  },
  {
   "cell_type": "markdown",
   "metadata": {},
   "source": [
    "# MACHINE LEARNING"
   ]
  },
  {
   "cell_type": "code",
   "execution_count": 54,
   "metadata": {},
   "outputs": [
    {
     "data": {
      "text/html": [
       "<div>\n",
       "<style scoped>\n",
       "    .dataframe tbody tr th:only-of-type {\n",
       "        vertical-align: middle;\n",
       "    }\n",
       "\n",
       "    .dataframe tbody tr th {\n",
       "        vertical-align: top;\n",
       "    }\n",
       "\n",
       "    .dataframe thead th {\n",
       "        text-align: right;\n",
       "    }\n",
       "</style>\n",
       "<table border=\"1\" class=\"dataframe\">\n",
       "  <thead>\n",
       "    <tr style=\"text-align: right;\">\n",
       "      <th></th>\n",
       "      <th>PACIENTE</th>\n",
       "      <th>DIAGNOSIS</th>\n",
       "      <th>NIVEL SOCIOECONÓMICO</th>\n",
       "      <th>DIABETES</th>\n",
       "      <th>HAS</th>\n",
       "      <th>TABAQUISMO</th>\n",
       "      <th>KAR0FSKY</th>\n",
       "      <th>DET. COGNITIVO</th>\n",
       "      <th>POLIFARMACIA</th>\n",
       "      <th>OBE1DAD</th>\n",
       "      <th>...</th>\n",
       "      <th>LINFOCITOS</th>\n",
       "      <th>PLAQUETAS</th>\n",
       "      <th>HEMOGLOBINA</th>\n",
       "      <th>VSG</th>\n",
       "      <th>PCR</th>\n",
       "      <th>DD</th>\n",
       "      <th>FIBRINÓGE0</th>\n",
       "      <th>ALBÚMINA</th>\n",
       "      <th>FERRITINA</th>\n",
       "      <th>SUPERVIVENCIA</th>\n",
       "    </tr>\n",
       "  </thead>\n",
       "  <tbody>\n",
       "    <tr>\n",
       "      <th>0</th>\n",
       "      <td>1</td>\n",
       "      <td>Malignant</td>\n",
       "      <td>1</td>\n",
       "      <td>0</td>\n",
       "      <td>0</td>\n",
       "      <td>0</td>\n",
       "      <td>100</td>\n",
       "      <td>0</td>\n",
       "      <td>0</td>\n",
       "      <td>0.00</td>\n",
       "      <td>...</td>\n",
       "      <td>0.24</td>\n",
       "      <td>48</td>\n",
       "      <td>9.7</td>\n",
       "      <td>50</td>\n",
       "      <td>27.16</td>\n",
       "      <td>13330</td>\n",
       "      <td>713</td>\n",
       "      <td>3.1</td>\n",
       "      <td>0.0</td>\n",
       "      <td>10</td>\n",
       "    </tr>\n",
       "    <tr>\n",
       "      <th>1</th>\n",
       "      <td>2</td>\n",
       "      <td>Benign</td>\n",
       "      <td>1</td>\n",
       "      <td>0</td>\n",
       "      <td>1</td>\n",
       "      <td>0</td>\n",
       "      <td>100</td>\n",
       "      <td>0</td>\n",
       "      <td>0</td>\n",
       "      <td>35.81</td>\n",
       "      <td>...</td>\n",
       "      <td>1.20</td>\n",
       "      <td>267</td>\n",
       "      <td>14.6</td>\n",
       "      <td>42</td>\n",
       "      <td>27.16</td>\n",
       "      <td>960</td>\n",
       "      <td>709</td>\n",
       "      <td>3.7</td>\n",
       "      <td>0.0</td>\n",
       "      <td>5</td>\n",
       "    </tr>\n",
       "    <tr>\n",
       "      <th>2</th>\n",
       "      <td>3</td>\n",
       "      <td>Malignant</td>\n",
       "      <td>1</td>\n",
       "      <td>0</td>\n",
       "      <td>0</td>\n",
       "      <td>1</td>\n",
       "      <td>50</td>\n",
       "      <td>1</td>\n",
       "      <td>0</td>\n",
       "      <td>0.00</td>\n",
       "      <td>...</td>\n",
       "      <td>0.60</td>\n",
       "      <td>33</td>\n",
       "      <td>13.9</td>\n",
       "      <td>42</td>\n",
       "      <td>16.51</td>\n",
       "      <td>26453</td>\n",
       "      <td>418</td>\n",
       "      <td>2.8</td>\n",
       "      <td>1473.0</td>\n",
       "      <td>4</td>\n",
       "    </tr>\n",
       "    <tr>\n",
       "      <th>3</th>\n",
       "      <td>4</td>\n",
       "      <td>Malignant</td>\n",
       "      <td>2</td>\n",
       "      <td>0</td>\n",
       "      <td>0</td>\n",
       "      <td>1</td>\n",
       "      <td>80</td>\n",
       "      <td>0</td>\n",
       "      <td>0</td>\n",
       "      <td>0.00</td>\n",
       "      <td>...</td>\n",
       "      <td>0.70</td>\n",
       "      <td>155</td>\n",
       "      <td>10.0</td>\n",
       "      <td>59</td>\n",
       "      <td>23.85</td>\n",
       "      <td>3580</td>\n",
       "      <td>640</td>\n",
       "      <td>2.5</td>\n",
       "      <td>0.0</td>\n",
       "      <td>15</td>\n",
       "    </tr>\n",
       "    <tr>\n",
       "      <th>4</th>\n",
       "      <td>5</td>\n",
       "      <td>Malignant</td>\n",
       "      <td>1</td>\n",
       "      <td>1</td>\n",
       "      <td>0</td>\n",
       "      <td>0</td>\n",
       "      <td>80</td>\n",
       "      <td>0</td>\n",
       "      <td>0</td>\n",
       "      <td>0.00</td>\n",
       "      <td>...</td>\n",
       "      <td>0.60</td>\n",
       "      <td>110</td>\n",
       "      <td>9.5</td>\n",
       "      <td>59</td>\n",
       "      <td>23.85</td>\n",
       "      <td>3580</td>\n",
       "      <td>640</td>\n",
       "      <td>2.5</td>\n",
       "      <td>0.0</td>\n",
       "      <td>15</td>\n",
       "    </tr>\n",
       "  </tbody>\n",
       "</table>\n",
       "<p>5 rows × 27 columns</p>\n",
       "</div>"
      ],
      "text/plain": [
       "   PACIENTE  DIAGNOSIS  NIVEL SOCIOECONÓMICO  DIABETES  HAS  TABAQUISMO  \\\n",
       "0         1  Malignant                     1         0    0           0   \n",
       "1         2     Benign                     1         0    1           0   \n",
       "2         3  Malignant                     1         0    0           1   \n",
       "3         4  Malignant                     2         0    0           1   \n",
       "4         5  Malignant                     1         1    0           0   \n",
       "\n",
       "   KAR0FSKY  DET. COGNITIVO  POLIFARMACIA  OBE1DAD  ...  LINFOCITOS  \\\n",
       "0       100               0             0     0.00  ...        0.24   \n",
       "1       100               0             0    35.81  ...        1.20   \n",
       "2        50               1             0     0.00  ...        0.60   \n",
       "3        80               0             0     0.00  ...        0.70   \n",
       "4        80               0             0     0.00  ...        0.60   \n",
       "\n",
       "   PLAQUETAS  HEMOGLOBINA  VSG    PCR     DD  FIBRINÓGE0  ALBÚMINA  FERRITINA  \\\n",
       "0         48          9.7   50  27.16  13330         713       3.1        0.0   \n",
       "1        267         14.6   42  27.16    960         709       3.7        0.0   \n",
       "2         33         13.9   42  16.51  26453         418       2.8     1473.0   \n",
       "3        155         10.0   59  23.85   3580         640       2.5        0.0   \n",
       "4        110          9.5   59  23.85   3580         640       2.5        0.0   \n",
       "\n",
       "   SUPERVIVENCIA  \n",
       "0             10  \n",
       "1              5  \n",
       "2              4  \n",
       "3             15  \n",
       "4             15  \n",
       "\n",
       "[5 rows x 27 columns]"
      ]
     },
     "execution_count": 54,
     "metadata": {},
     "output_type": "execute_result"
    }
   ],
   "source": [
    "# csv file path\n",
    "covid_df = \"/Users/berelieta/Desktop/tesisEliu/Resources/testBere.csv\"\n",
    "\n",
    "# Import csv file as a DataFrame\n",
    "covid_df = pd.read_csv(covid_df,low_memory=False)\n",
    "covid_df.head()"
   ]
  },
  {
   "cell_type": "code",
   "execution_count": 55,
   "metadata": {},
   "outputs": [
    {
     "name": "stdout",
     "output_type": "stream",
     "text": [
      "(30, 26) (30,)\n"
     ]
    }
   ],
   "source": [
    "X = covid_df.drop(\"DIAGNOSIS\", axis=1)\n",
    "y = covid_df[\"DIAGNOSIS\"]\n",
    "print(X.shape, y.shape)"
   ]
  },
  {
   "cell_type": "markdown",
   "metadata": {},
   "source": [
    "# Logistic Regression"
   ]
  },
  {
   "cell_type": "code",
   "execution_count": 56,
   "metadata": {},
   "outputs": [],
   "source": [
    "from sklearn.model_selection import train_test_split\n",
    "\n",
    "X_train, X_test, y_train, y_test = train_test_split(X, y, random_state=1)\n"
   ]
  },
  {
   "cell_type": "code",
   "execution_count": 57,
   "metadata": {},
   "outputs": [
    {
     "data": {
      "text/plain": [
       "LogisticRegression(C=1.0, class_weight=None, dual=False, fit_intercept=True,\n",
       "                   intercept_scaling=1, l1_ratio=None, max_iter=100,\n",
       "                   multi_class='auto', n_jobs=None, penalty='l2',\n",
       "                   random_state=None, solver='lbfgs', tol=0.0001, verbose=0,\n",
       "                   warm_start=False)"
      ]
     },
     "execution_count": 57,
     "metadata": {},
     "output_type": "execute_result"
    }
   ],
   "source": [
    "from sklearn.linear_model import LogisticRegression\n",
    "classifier = LogisticRegression()\n",
    "classifier"
   ]
  },
  {
   "cell_type": "code",
   "execution_count": 58,
   "metadata": {},
   "outputs": [
    {
     "name": "stderr",
     "output_type": "stream",
     "text": [
      "/Users/berelieta/opt/anaconda3/lib/python3.7/site-packages/sklearn/linear_model/_logistic.py:940: ConvergenceWarning: lbfgs failed to converge (status=1):\n",
      "STOP: TOTAL NO. of ITERATIONS REACHED LIMIT.\n",
      "\n",
      "Increase the number of iterations (max_iter) or scale the data as shown in:\n",
      "    https://scikit-learn.org/stable/modules/preprocessing.html\n",
      "Please also refer to the documentation for alternative solver options:\n",
      "    https://scikit-learn.org/stable/modules/linear_model.html#logistic-regression\n",
      "  extra_warning_msg=_LOGISTIC_SOLVER_CONVERGENCE_MSG)\n"
     ]
    },
    {
     "data": {
      "text/plain": [
       "LogisticRegression(C=1.0, class_weight=None, dual=False, fit_intercept=True,\n",
       "                   intercept_scaling=1, l1_ratio=None, max_iter=100,\n",
       "                   multi_class='auto', n_jobs=None, penalty='l2',\n",
       "                   random_state=None, solver='lbfgs', tol=0.0001, verbose=0,\n",
       "                   warm_start=False)"
      ]
     },
     "execution_count": 58,
     "metadata": {},
     "output_type": "execute_result"
    }
   ],
   "source": [
    "classifier.fit(X_train, y_train)"
   ]
  },
  {
   "cell_type": "code",
   "execution_count": 59,
   "metadata": {},
   "outputs": [
    {
     "name": "stdout",
     "output_type": "stream",
     "text": [
      "Training Data Score: 0.9090909090909091\n",
      "Testing Data Score: 0.75\n"
     ]
    }
   ],
   "source": [
    "print(f\"Training Data Score: {classifier.score(X_train, y_train)}\")\n",
    "print(f\"Testing Data Score: {classifier.score(X_test, y_test)}\")"
   ]
  },
  {
   "cell_type": "code",
   "execution_count": 60,
   "metadata": {},
   "outputs": [
    {
     "name": "stdout",
     "output_type": "stream",
     "text": [
      "First 10 Predictions:   ['Benign' 'Malignant' 'Benign' 'Malignant' 'Benign' 'Benign' 'Benign'\n",
      " 'Malignant']\n",
      "First 10 Actual labels: ['Benign', 'Benign', 'Benign', 'Benign', 'Benign', 'Benign', 'Benign', 'Malignant']\n"
     ]
    }
   ],
   "source": [
    "predictions = classifier.predict(X_test)\n",
    "print(f\"First 10 Predictions:   {predictions[:10]}\")\n",
    "print(f\"First 10 Actual labels: {y_test[:10].tolist()}\")"
   ]
  },
  {
   "cell_type": "code",
   "execution_count": 61,
   "metadata": {},
   "outputs": [
    {
     "data": {
      "text/html": [
       "<div>\n",
       "<style scoped>\n",
       "    .dataframe tbody tr th:only-of-type {\n",
       "        vertical-align: middle;\n",
       "    }\n",
       "\n",
       "    .dataframe tbody tr th {\n",
       "        vertical-align: top;\n",
       "    }\n",
       "\n",
       "    .dataframe thead th {\n",
       "        text-align: right;\n",
       "    }\n",
       "</style>\n",
       "<table border=\"1\" class=\"dataframe\">\n",
       "  <thead>\n",
       "    <tr style=\"text-align: right;\">\n",
       "      <th></th>\n",
       "      <th>Prediction</th>\n",
       "      <th>Actual</th>\n",
       "    </tr>\n",
       "  </thead>\n",
       "  <tbody>\n",
       "    <tr>\n",
       "      <th>0</th>\n",
       "      <td>Benign</td>\n",
       "      <td>Benign</td>\n",
       "    </tr>\n",
       "    <tr>\n",
       "      <th>1</th>\n",
       "      <td>Malignant</td>\n",
       "      <td>Benign</td>\n",
       "    </tr>\n",
       "    <tr>\n",
       "      <th>2</th>\n",
       "      <td>Benign</td>\n",
       "      <td>Benign</td>\n",
       "    </tr>\n",
       "    <tr>\n",
       "      <th>3</th>\n",
       "      <td>Malignant</td>\n",
       "      <td>Benign</td>\n",
       "    </tr>\n",
       "    <tr>\n",
       "      <th>4</th>\n",
       "      <td>Benign</td>\n",
       "      <td>Benign</td>\n",
       "    </tr>\n",
       "    <tr>\n",
       "      <th>5</th>\n",
       "      <td>Benign</td>\n",
       "      <td>Benign</td>\n",
       "    </tr>\n",
       "    <tr>\n",
       "      <th>6</th>\n",
       "      <td>Benign</td>\n",
       "      <td>Benign</td>\n",
       "    </tr>\n",
       "    <tr>\n",
       "      <th>7</th>\n",
       "      <td>Malignant</td>\n",
       "      <td>Malignant</td>\n",
       "    </tr>\n",
       "  </tbody>\n",
       "</table>\n",
       "</div>"
      ],
      "text/plain": [
       "  Prediction     Actual\n",
       "0     Benign     Benign\n",
       "1  Malignant     Benign\n",
       "2     Benign     Benign\n",
       "3  Malignant     Benign\n",
       "4     Benign     Benign\n",
       "5     Benign     Benign\n",
       "6     Benign     Benign\n",
       "7  Malignant  Malignant"
      ]
     },
     "execution_count": 61,
     "metadata": {},
     "output_type": "execute_result"
    }
   ],
   "source": [
    "pd.DataFrame({\"Prediction\": predictions, \"Actual\": y_test}).reset_index(drop=True)"
   ]
  },
  {
   "cell_type": "markdown",
   "metadata": {},
   "source": [
    "# KNN"
   ]
  },
  {
   "cell_type": "code",
   "execution_count": 62,
   "metadata": {},
   "outputs": [
    {
     "data": {
      "text/html": [
       "<div>\n",
       "<style scoped>\n",
       "    .dataframe tbody tr th:only-of-type {\n",
       "        vertical-align: middle;\n",
       "    }\n",
       "\n",
       "    .dataframe tbody tr th {\n",
       "        vertical-align: top;\n",
       "    }\n",
       "\n",
       "    .dataframe thead th {\n",
       "        text-align: right;\n",
       "    }\n",
       "</style>\n",
       "<table border=\"1\" class=\"dataframe\">\n",
       "  <thead>\n",
       "    <tr style=\"text-align: right;\">\n",
       "      <th></th>\n",
       "      <th>PACIENTE</th>\n",
       "      <th>DIAGNOSIS</th>\n",
       "      <th>NIVEL SOCIOECONÓMICO</th>\n",
       "      <th>DIABETES</th>\n",
       "      <th>HAS</th>\n",
       "      <th>TABAQUISMO</th>\n",
       "      <th>KAR0FSKY</th>\n",
       "      <th>DET. COGNITIVO</th>\n",
       "      <th>POLIFARMACIA</th>\n",
       "      <th>OBE1DAD</th>\n",
       "      <th>...</th>\n",
       "      <th>LINFOCITOS</th>\n",
       "      <th>PLAQUETAS</th>\n",
       "      <th>HEMOGLOBINA</th>\n",
       "      <th>VSG</th>\n",
       "      <th>PCR</th>\n",
       "      <th>DD</th>\n",
       "      <th>FIBRINÓGE0</th>\n",
       "      <th>ALBÚMINA</th>\n",
       "      <th>FERRITINA</th>\n",
       "      <th>SUPERVIVENCIA</th>\n",
       "    </tr>\n",
       "  </thead>\n",
       "  <tbody>\n",
       "    <tr>\n",
       "      <th>0</th>\n",
       "      <td>1</td>\n",
       "      <td>Malignant</td>\n",
       "      <td>1</td>\n",
       "      <td>0</td>\n",
       "      <td>0</td>\n",
       "      <td>0</td>\n",
       "      <td>100</td>\n",
       "      <td>0</td>\n",
       "      <td>0</td>\n",
       "      <td>0.00</td>\n",
       "      <td>...</td>\n",
       "      <td>0.24</td>\n",
       "      <td>48</td>\n",
       "      <td>9.7</td>\n",
       "      <td>50</td>\n",
       "      <td>27.16</td>\n",
       "      <td>13330</td>\n",
       "      <td>713</td>\n",
       "      <td>3.1</td>\n",
       "      <td>0.0</td>\n",
       "      <td>10</td>\n",
       "    </tr>\n",
       "    <tr>\n",
       "      <th>1</th>\n",
       "      <td>2</td>\n",
       "      <td>Benign</td>\n",
       "      <td>1</td>\n",
       "      <td>0</td>\n",
       "      <td>1</td>\n",
       "      <td>0</td>\n",
       "      <td>100</td>\n",
       "      <td>0</td>\n",
       "      <td>0</td>\n",
       "      <td>35.81</td>\n",
       "      <td>...</td>\n",
       "      <td>1.20</td>\n",
       "      <td>267</td>\n",
       "      <td>14.6</td>\n",
       "      <td>42</td>\n",
       "      <td>27.16</td>\n",
       "      <td>960</td>\n",
       "      <td>709</td>\n",
       "      <td>3.7</td>\n",
       "      <td>0.0</td>\n",
       "      <td>5</td>\n",
       "    </tr>\n",
       "    <tr>\n",
       "      <th>2</th>\n",
       "      <td>3</td>\n",
       "      <td>Malignant</td>\n",
       "      <td>1</td>\n",
       "      <td>0</td>\n",
       "      <td>0</td>\n",
       "      <td>1</td>\n",
       "      <td>50</td>\n",
       "      <td>1</td>\n",
       "      <td>0</td>\n",
       "      <td>0.00</td>\n",
       "      <td>...</td>\n",
       "      <td>0.60</td>\n",
       "      <td>33</td>\n",
       "      <td>13.9</td>\n",
       "      <td>42</td>\n",
       "      <td>16.51</td>\n",
       "      <td>26453</td>\n",
       "      <td>418</td>\n",
       "      <td>2.8</td>\n",
       "      <td>1473.0</td>\n",
       "      <td>4</td>\n",
       "    </tr>\n",
       "    <tr>\n",
       "      <th>3</th>\n",
       "      <td>4</td>\n",
       "      <td>Malignant</td>\n",
       "      <td>2</td>\n",
       "      <td>0</td>\n",
       "      <td>0</td>\n",
       "      <td>1</td>\n",
       "      <td>80</td>\n",
       "      <td>0</td>\n",
       "      <td>0</td>\n",
       "      <td>0.00</td>\n",
       "      <td>...</td>\n",
       "      <td>0.70</td>\n",
       "      <td>155</td>\n",
       "      <td>10.0</td>\n",
       "      <td>59</td>\n",
       "      <td>23.85</td>\n",
       "      <td>3580</td>\n",
       "      <td>640</td>\n",
       "      <td>2.5</td>\n",
       "      <td>0.0</td>\n",
       "      <td>15</td>\n",
       "    </tr>\n",
       "    <tr>\n",
       "      <th>4</th>\n",
       "      <td>5</td>\n",
       "      <td>Malignant</td>\n",
       "      <td>1</td>\n",
       "      <td>1</td>\n",
       "      <td>0</td>\n",
       "      <td>0</td>\n",
       "      <td>80</td>\n",
       "      <td>0</td>\n",
       "      <td>0</td>\n",
       "      <td>0.00</td>\n",
       "      <td>...</td>\n",
       "      <td>0.60</td>\n",
       "      <td>110</td>\n",
       "      <td>9.5</td>\n",
       "      <td>59</td>\n",
       "      <td>23.85</td>\n",
       "      <td>3580</td>\n",
       "      <td>640</td>\n",
       "      <td>2.5</td>\n",
       "      <td>0.0</td>\n",
       "      <td>15</td>\n",
       "    </tr>\n",
       "  </tbody>\n",
       "</table>\n",
       "<p>5 rows × 27 columns</p>\n",
       "</div>"
      ],
      "text/plain": [
       "   PACIENTE  DIAGNOSIS  NIVEL SOCIOECONÓMICO  DIABETES  HAS  TABAQUISMO  \\\n",
       "0         1  Malignant                     1         0    0           0   \n",
       "1         2     Benign                     1         0    1           0   \n",
       "2         3  Malignant                     1         0    0           1   \n",
       "3         4  Malignant                     2         0    0           1   \n",
       "4         5  Malignant                     1         1    0           0   \n",
       "\n",
       "   KAR0FSKY  DET. COGNITIVO  POLIFARMACIA  OBE1DAD  ...  LINFOCITOS  \\\n",
       "0       100               0             0     0.00  ...        0.24   \n",
       "1       100               0             0    35.81  ...        1.20   \n",
       "2        50               1             0     0.00  ...        0.60   \n",
       "3        80               0             0     0.00  ...        0.70   \n",
       "4        80               0             0     0.00  ...        0.60   \n",
       "\n",
       "   PLAQUETAS  HEMOGLOBINA  VSG    PCR     DD  FIBRINÓGE0  ALBÚMINA  FERRITINA  \\\n",
       "0         48          9.7   50  27.16  13330         713       3.1        0.0   \n",
       "1        267         14.6   42  27.16    960         709       3.7        0.0   \n",
       "2         33         13.9   42  16.51  26453         418       2.8     1473.0   \n",
       "3        155         10.0   59  23.85   3580         640       2.5        0.0   \n",
       "4        110          9.5   59  23.85   3580         640       2.5        0.0   \n",
       "\n",
       "   SUPERVIVENCIA  \n",
       "0             10  \n",
       "1              5  \n",
       "2              4  \n",
       "3             15  \n",
       "4             15  \n",
       "\n",
       "[5 rows x 27 columns]"
      ]
     },
     "execution_count": 62,
     "metadata": {},
     "output_type": "execute_result"
    }
   ],
   "source": [
    "covid_df.head()"
   ]
  },
  {
   "cell_type": "code",
   "execution_count": 63,
   "metadata": {},
   "outputs": [],
   "source": [
    "y = covid_df[\"DIAGNOSIS\"]"
   ]
  },
  {
   "cell_type": "code",
   "execution_count": 64,
   "metadata": {},
   "outputs": [
    {
     "data": {
      "text/html": [
       "<div>\n",
       "<style scoped>\n",
       "    .dataframe tbody tr th:only-of-type {\n",
       "        vertical-align: middle;\n",
       "    }\n",
       "\n",
       "    .dataframe tbody tr th {\n",
       "        vertical-align: top;\n",
       "    }\n",
       "\n",
       "    .dataframe thead th {\n",
       "        text-align: right;\n",
       "    }\n",
       "</style>\n",
       "<table border=\"1\" class=\"dataframe\">\n",
       "  <thead>\n",
       "    <tr style=\"text-align: right;\">\n",
       "      <th></th>\n",
       "      <th>NIVEL SOCIOECONÓMICO</th>\n",
       "      <th>DIABETES</th>\n",
       "      <th>HAS</th>\n",
       "      <th>TABAQUISMO</th>\n",
       "      <th>KAR0FSKY</th>\n",
       "      <th>DET. COGNITIVO</th>\n",
       "      <th>POLIFARMACIA</th>\n",
       "      <th>OBE1DAD</th>\n",
       "      <th>OBE1DAD.1</th>\n",
       "      <th>DELIRIUM</th>\n",
       "      <th>...</th>\n",
       "      <th>LINFOCITOS</th>\n",
       "      <th>PLAQUETAS</th>\n",
       "      <th>HEMOGLOBINA</th>\n",
       "      <th>VSG</th>\n",
       "      <th>PCR</th>\n",
       "      <th>DD</th>\n",
       "      <th>FIBRINÓGE0</th>\n",
       "      <th>ALBÚMINA</th>\n",
       "      <th>FERRITINA</th>\n",
       "      <th>SUPERVIVENCIA</th>\n",
       "    </tr>\n",
       "  </thead>\n",
       "  <tbody>\n",
       "    <tr>\n",
       "      <th>0</th>\n",
       "      <td>1</td>\n",
       "      <td>0</td>\n",
       "      <td>0</td>\n",
       "      <td>0</td>\n",
       "      <td>100</td>\n",
       "      <td>0</td>\n",
       "      <td>0</td>\n",
       "      <td>0.00</td>\n",
       "      <td>0</td>\n",
       "      <td>0</td>\n",
       "      <td>...</td>\n",
       "      <td>0.24</td>\n",
       "      <td>48</td>\n",
       "      <td>9.7</td>\n",
       "      <td>50</td>\n",
       "      <td>27.16</td>\n",
       "      <td>13330</td>\n",
       "      <td>713</td>\n",
       "      <td>3.1</td>\n",
       "      <td>0.0</td>\n",
       "      <td>10</td>\n",
       "    </tr>\n",
       "    <tr>\n",
       "      <th>1</th>\n",
       "      <td>1</td>\n",
       "      <td>0</td>\n",
       "      <td>1</td>\n",
       "      <td>0</td>\n",
       "      <td>100</td>\n",
       "      <td>0</td>\n",
       "      <td>0</td>\n",
       "      <td>35.81</td>\n",
       "      <td>1</td>\n",
       "      <td>0</td>\n",
       "      <td>...</td>\n",
       "      <td>1.20</td>\n",
       "      <td>267</td>\n",
       "      <td>14.6</td>\n",
       "      <td>42</td>\n",
       "      <td>27.16</td>\n",
       "      <td>960</td>\n",
       "      <td>709</td>\n",
       "      <td>3.7</td>\n",
       "      <td>0.0</td>\n",
       "      <td>5</td>\n",
       "    </tr>\n",
       "    <tr>\n",
       "      <th>2</th>\n",
       "      <td>1</td>\n",
       "      <td>0</td>\n",
       "      <td>0</td>\n",
       "      <td>1</td>\n",
       "      <td>50</td>\n",
       "      <td>1</td>\n",
       "      <td>0</td>\n",
       "      <td>0.00</td>\n",
       "      <td>0</td>\n",
       "      <td>1</td>\n",
       "      <td>...</td>\n",
       "      <td>0.60</td>\n",
       "      <td>33</td>\n",
       "      <td>13.9</td>\n",
       "      <td>42</td>\n",
       "      <td>16.51</td>\n",
       "      <td>26453</td>\n",
       "      <td>418</td>\n",
       "      <td>2.8</td>\n",
       "      <td>1473.0</td>\n",
       "      <td>4</td>\n",
       "    </tr>\n",
       "    <tr>\n",
       "      <th>3</th>\n",
       "      <td>2</td>\n",
       "      <td>0</td>\n",
       "      <td>0</td>\n",
       "      <td>1</td>\n",
       "      <td>80</td>\n",
       "      <td>0</td>\n",
       "      <td>0</td>\n",
       "      <td>0.00</td>\n",
       "      <td>0</td>\n",
       "      <td>0</td>\n",
       "      <td>...</td>\n",
       "      <td>0.70</td>\n",
       "      <td>155</td>\n",
       "      <td>10.0</td>\n",
       "      <td>59</td>\n",
       "      <td>23.85</td>\n",
       "      <td>3580</td>\n",
       "      <td>640</td>\n",
       "      <td>2.5</td>\n",
       "      <td>0.0</td>\n",
       "      <td>15</td>\n",
       "    </tr>\n",
       "    <tr>\n",
       "      <th>4</th>\n",
       "      <td>1</td>\n",
       "      <td>1</td>\n",
       "      <td>0</td>\n",
       "      <td>0</td>\n",
       "      <td>80</td>\n",
       "      <td>0</td>\n",
       "      <td>0</td>\n",
       "      <td>0.00</td>\n",
       "      <td>0</td>\n",
       "      <td>0</td>\n",
       "      <td>...</td>\n",
       "      <td>0.60</td>\n",
       "      <td>110</td>\n",
       "      <td>9.5</td>\n",
       "      <td>59</td>\n",
       "      <td>23.85</td>\n",
       "      <td>3580</td>\n",
       "      <td>640</td>\n",
       "      <td>2.5</td>\n",
       "      <td>0.0</td>\n",
       "      <td>15</td>\n",
       "    </tr>\n",
       "  </tbody>\n",
       "</table>\n",
       "<p>5 rows × 25 columns</p>\n",
       "</div>"
      ],
      "text/plain": [
       "   NIVEL SOCIOECONÓMICO  DIABETES  HAS  TABAQUISMO  KAR0FSKY  DET. COGNITIVO  \\\n",
       "0                     1         0    0           0       100               0   \n",
       "1                     1         0    1           0       100               0   \n",
       "2                     1         0    0           1        50               1   \n",
       "3                     2         0    0           1        80               0   \n",
       "4                     1         1    0           0        80               0   \n",
       "\n",
       "   POLIFARMACIA  OBE1DAD  OBE1DAD.1  DELIRIUM  ...  LINFOCITOS  PLAQUETAS  \\\n",
       "0             0     0.00          0         0  ...        0.24         48   \n",
       "1             0    35.81          1         0  ...        1.20        267   \n",
       "2             0     0.00          0         1  ...        0.60         33   \n",
       "3             0     0.00          0         0  ...        0.70        155   \n",
       "4             0     0.00          0         0  ...        0.60        110   \n",
       "\n",
       "   HEMOGLOBINA  VSG    PCR     DD  FIBRINÓGE0  ALBÚMINA  FERRITINA  \\\n",
       "0          9.7   50  27.16  13330         713       3.1        0.0   \n",
       "1         14.6   42  27.16    960         709       3.7        0.0   \n",
       "2         13.9   42  16.51  26453         418       2.8     1473.0   \n",
       "3         10.0   59  23.85   3580         640       2.5        0.0   \n",
       "4          9.5   59  23.85   3580         640       2.5        0.0   \n",
       "\n",
       "   SUPERVIVENCIA  \n",
       "0             10  \n",
       "1              5  \n",
       "2              4  \n",
       "3             15  \n",
       "4             15  \n",
       "\n",
       "[5 rows x 25 columns]"
      ]
     },
     "execution_count": 64,
     "metadata": {},
     "output_type": "execute_result"
    }
   ],
   "source": [
    "X_df = covid_df.drop(\"DIAGNOSIS\", axis =1)\n",
    "X = X_df.drop(\"PACIENTE\", axis =1)\n",
    "\n",
    "X.head()"
   ]
  },
  {
   "cell_type": "code",
   "execution_count": 65,
   "metadata": {},
   "outputs": [],
   "source": [
    "from sklearn.model_selection import train_test_split\n",
    "X_train, X_test, y_train, y_test = train_test_split(X, y, random_state=42)\n"
   ]
  },
  {
   "cell_type": "code",
   "execution_count": 66,
   "metadata": {},
   "outputs": [
    {
     "name": "stdout",
     "output_type": "stream",
     "text": [
      "k: 1, Train/Test Score: 1.000/0.750\n",
      "k: 3, Train/Test Score: 0.909/0.625\n",
      "k: 5, Train/Test Score: 0.818/0.500\n",
      "k: 7, Train/Test Score: 0.818/0.500\n",
      "k: 9, Train/Test Score: 0.636/0.625\n",
      "k: 11, Train/Test Score: 0.636/0.625\n",
      "k: 13, Train/Test Score: 0.682/0.625\n",
      "k: 15, Train/Test Score: 0.682/0.625\n",
      "k: 17, Train/Test Score: 0.727/0.750\n",
      "k: 19, Train/Test Score: 0.545/0.500\n"
     ]
    },
    {
     "data": {
      "image/png": "[encoded data removed]",
      "text/plain": [
       "<Figure size 432x288 with 1 Axes>"
      ]
     },
     "metadata": {
      "needs_background": "light"
     },
     "output_type": "display_data"
    }
   ],
   "source": [
    "train_scores = []\n",
    "test_scores = []\n",
    "for k in range(1, 20, 2):\n",
    "    knn = KNeighborsClassifier(n_neighbors=k)\n",
    "    knn.fit(X_train, y_train)\n",
    "    train_score = knn.score(X_train, y_train)\n",
    "    test_score = knn.score(X_test, y_test)\n",
    "    train_scores.append(train_score)\n",
    "    test_scores.append(test_score)\n",
    "    print(f\"k: {k}, Train/Test Score: {train_score:.3f}/{test_score:.3f}\")\n",
    "    \n",
    "    \n",
    "plt.plot(range(1, 20, 2), train_scores, marker='o')\n",
    "plt.plot(range(1, 20, 2), test_scores, marker=\"x\")\n",
    "plt.xlabel(\"k neighbors\")\n",
    "plt.ylabel(\"Testing accuracy Score\")\n",
    "plt.show()"
   ]
  },
  {
   "cell_type": "code",
   "execution_count": 67,
   "metadata": {},
   "outputs": [
    {
     "name": "stdout",
     "output_type": "stream",
     "text": [
      "k=13 Test Acc: 0.625\n"
     ]
    }
   ],
   "source": [
    "knn = KNeighborsClassifier(n_neighbors=13)\n",
    "knn.fit(X_train, y_train)\n",
    "print('k=13 Test Acc: %.3f' % knn.score(X_test, y_test))"
   ]
  },
  {
   "cell_type": "markdown",
   "metadata": {},
   "source": [
    "# Random Forrest"
   ]
  },
  {
   "cell_type": "code",
   "execution_count": 68,
   "metadata": {},
   "outputs": [
    {
     "data": {
      "text/html": [
       "<div>\n",
       "<style scoped>\n",
       "    .dataframe tbody tr th:only-of-type {\n",
       "        vertical-align: middle;\n",
       "    }\n",
       "\n",
       "    .dataframe tbody tr th {\n",
       "        vertical-align: top;\n",
       "    }\n",
       "\n",
       "    .dataframe thead th {\n",
       "        text-align: right;\n",
       "    }\n",
       "</style>\n",
       "<table border=\"1\" class=\"dataframe\">\n",
       "  <thead>\n",
       "    <tr style=\"text-align: right;\">\n",
       "      <th></th>\n",
       "      <th>PACIENTE</th>\n",
       "      <th>DIAGNOSIS</th>\n",
       "      <th>NIVEL SOCIOECONÓMICO</th>\n",
       "      <th>DIABETES</th>\n",
       "      <th>HAS</th>\n",
       "      <th>TABAQUISMO</th>\n",
       "      <th>KAR0FSKY</th>\n",
       "      <th>DET. COGNITIVO</th>\n",
       "      <th>POLIFARMACIA</th>\n",
       "      <th>OBE1DAD</th>\n",
       "      <th>...</th>\n",
       "      <th>LINFOCITOS</th>\n",
       "      <th>PLAQUETAS</th>\n",
       "      <th>HEMOGLOBINA</th>\n",
       "      <th>VSG</th>\n",
       "      <th>PCR</th>\n",
       "      <th>DD</th>\n",
       "      <th>FIBRINÓGE0</th>\n",
       "      <th>ALBÚMINA</th>\n",
       "      <th>FERRITINA</th>\n",
       "      <th>SUPERVIVENCIA</th>\n",
       "    </tr>\n",
       "  </thead>\n",
       "  <tbody>\n",
       "    <tr>\n",
       "      <th>0</th>\n",
       "      <td>1</td>\n",
       "      <td>Malignant</td>\n",
       "      <td>1</td>\n",
       "      <td>0</td>\n",
       "      <td>0</td>\n",
       "      <td>0</td>\n",
       "      <td>100</td>\n",
       "      <td>0</td>\n",
       "      <td>0</td>\n",
       "      <td>0.00</td>\n",
       "      <td>...</td>\n",
       "      <td>0.24</td>\n",
       "      <td>48</td>\n",
       "      <td>9.7</td>\n",
       "      <td>50</td>\n",
       "      <td>27.16</td>\n",
       "      <td>13330</td>\n",
       "      <td>713</td>\n",
       "      <td>3.1</td>\n",
       "      <td>0.0</td>\n",
       "      <td>10</td>\n",
       "    </tr>\n",
       "    <tr>\n",
       "      <th>1</th>\n",
       "      <td>2</td>\n",
       "      <td>Benign</td>\n",
       "      <td>1</td>\n",
       "      <td>0</td>\n",
       "      <td>1</td>\n",
       "      <td>0</td>\n",
       "      <td>100</td>\n",
       "      <td>0</td>\n",
       "      <td>0</td>\n",
       "      <td>35.81</td>\n",
       "      <td>...</td>\n",
       "      <td>1.20</td>\n",
       "      <td>267</td>\n",
       "      <td>14.6</td>\n",
       "      <td>42</td>\n",
       "      <td>27.16</td>\n",
       "      <td>960</td>\n",
       "      <td>709</td>\n",
       "      <td>3.7</td>\n",
       "      <td>0.0</td>\n",
       "      <td>5</td>\n",
       "    </tr>\n",
       "    <tr>\n",
       "      <th>2</th>\n",
       "      <td>3</td>\n",
       "      <td>Malignant</td>\n",
       "      <td>1</td>\n",
       "      <td>0</td>\n",
       "      <td>0</td>\n",
       "      <td>1</td>\n",
       "      <td>50</td>\n",
       "      <td>1</td>\n",
       "      <td>0</td>\n",
       "      <td>0.00</td>\n",
       "      <td>...</td>\n",
       "      <td>0.60</td>\n",
       "      <td>33</td>\n",
       "      <td>13.9</td>\n",
       "      <td>42</td>\n",
       "      <td>16.51</td>\n",
       "      <td>26453</td>\n",
       "      <td>418</td>\n",
       "      <td>2.8</td>\n",
       "      <td>1473.0</td>\n",
       "      <td>4</td>\n",
       "    </tr>\n",
       "    <tr>\n",
       "      <th>3</th>\n",
       "      <td>4</td>\n",
       "      <td>Malignant</td>\n",
       "      <td>2</td>\n",
       "      <td>0</td>\n",
       "      <td>0</td>\n",
       "      <td>1</td>\n",
       "      <td>80</td>\n",
       "      <td>0</td>\n",
       "      <td>0</td>\n",
       "      <td>0.00</td>\n",
       "      <td>...</td>\n",
       "      <td>0.70</td>\n",
       "      <td>155</td>\n",
       "      <td>10.0</td>\n",
       "      <td>59</td>\n",
       "      <td>23.85</td>\n",
       "      <td>3580</td>\n",
       "      <td>640</td>\n",
       "      <td>2.5</td>\n",
       "      <td>0.0</td>\n",
       "      <td>15</td>\n",
       "    </tr>\n",
       "    <tr>\n",
       "      <th>4</th>\n",
       "      <td>5</td>\n",
       "      <td>Malignant</td>\n",
       "      <td>1</td>\n",
       "      <td>1</td>\n",
       "      <td>0</td>\n",
       "      <td>0</td>\n",
       "      <td>80</td>\n",
       "      <td>0</td>\n",
       "      <td>0</td>\n",
       "      <td>0.00</td>\n",
       "      <td>...</td>\n",
       "      <td>0.60</td>\n",
       "      <td>110</td>\n",
       "      <td>9.5</td>\n",
       "      <td>59</td>\n",
       "      <td>23.85</td>\n",
       "      <td>3580</td>\n",
       "      <td>640</td>\n",
       "      <td>2.5</td>\n",
       "      <td>0.0</td>\n",
       "      <td>15</td>\n",
       "    </tr>\n",
       "  </tbody>\n",
       "</table>\n",
       "<p>5 rows × 27 columns</p>\n",
       "</div>"
      ],
      "text/plain": [
       "   PACIENTE  DIAGNOSIS  NIVEL SOCIOECONÓMICO  DIABETES  HAS  TABAQUISMO  \\\n",
       "0         1  Malignant                     1         0    0           0   \n",
       "1         2     Benign                     1         0    1           0   \n",
       "2         3  Malignant                     1         0    0           1   \n",
       "3         4  Malignant                     2         0    0           1   \n",
       "4         5  Malignant                     1         1    0           0   \n",
       "\n",
       "   KAR0FSKY  DET. COGNITIVO  POLIFARMACIA  OBE1DAD  ...  LINFOCITOS  \\\n",
       "0       100               0             0     0.00  ...        0.24   \n",
       "1       100               0             0    35.81  ...        1.20   \n",
       "2        50               1             0     0.00  ...        0.60   \n",
       "3        80               0             0     0.00  ...        0.70   \n",
       "4        80               0             0     0.00  ...        0.60   \n",
       "\n",
       "   PLAQUETAS  HEMOGLOBINA  VSG    PCR     DD  FIBRINÓGE0  ALBÚMINA  FERRITINA  \\\n",
       "0         48          9.7   50  27.16  13330         713       3.1        0.0   \n",
       "1        267         14.6   42  27.16    960         709       3.7        0.0   \n",
       "2         33         13.9   42  16.51  26453         418       2.8     1473.0   \n",
       "3        155         10.0   59  23.85   3580         640       2.5        0.0   \n",
       "4        110          9.5   59  23.85   3580         640       2.5        0.0   \n",
       "\n",
       "   SUPERVIVENCIA  \n",
       "0             10  \n",
       "1              5  \n",
       "2              4  \n",
       "3             15  \n",
       "4             15  \n",
       "\n",
       "[5 rows x 27 columns]"
      ]
     },
     "execution_count": 68,
     "metadata": {},
     "output_type": "execute_result"
    }
   ],
   "source": [
    "covid_df.head()"
   ]
  },
  {
   "cell_type": "code",
   "execution_count": 69,
   "metadata": {},
   "outputs": [],
   "source": [
    "feature_names = X.columns\n",
    "target_names = [\"negative\", \"positive\"]"
   ]
  },
  {
   "cell_type": "code",
   "execution_count": 70,
   "metadata": {},
   "outputs": [],
   "source": [
    "\n",
    "from sklearn.preprocessing import LabelEncoder\n",
    "\n",
    "# Step 1: Label-encode data set\n",
    "label_encoder = LabelEncoder()\n",
    "label_encoder.fit(y_train)\n",
    "encoded_y_train = label_encoder.transform(y_train)"
   ]
  },
  {
   "cell_type": "code",
   "execution_count": 71,
   "metadata": {},
   "outputs": [],
   "source": [
    "from sklearn.preprocessing import LabelEncoder\n",
    "\n",
    "# Step 1: Label-encode data set\n",
    "label_encoder = LabelEncoder()\n",
    "label_encoder.fit(y_test)\n",
    "encoded_y_test = label_encoder.transform(y_test)"
   ]
  },
  {
   "cell_type": "code",
   "execution_count": 72,
   "metadata": {},
   "outputs": [
    {
     "name": "stderr",
     "output_type": "stream",
     "text": [
      "Using TensorFlow backend.\n"
     ]
    }
   ],
   "source": [
    "from keras.utils import to_categorical\n",
    "\n",
    "# Step 2: One-hot encoding\n",
    "y_train_categorical = to_categorical(encoded_y_train)\n",
    "y_test_categorical = to_categorical(encoded_y_test)"
   ]
  },
  {
   "cell_type": "code",
   "execution_count": 73,
   "metadata": {},
   "outputs": [
    {
     "data": {
      "text/plain": [
       "0.375"
      ]
     },
     "execution_count": 73,
     "metadata": {},
     "output_type": "execute_result"
    }
   ],
   "source": [
    "from sklearn import tree\n",
    "\n",
    "clf = tree.DecisionTreeClassifier()\n",
    "clf = clf.fit(X_train, y_train_categorical)\n",
    "clf.score(X_test, y_test_categorical)"
   ]
  },
  {
   "cell_type": "code",
   "execution_count": 74,
   "metadata": {},
   "outputs": [
    {
     "data": {
      "text/plain": [
       "0.75"
      ]
     },
     "execution_count": 74,
     "metadata": {},
     "output_type": "execute_result"
    }
   ],
   "source": [
    "from sklearn.ensemble import RandomForestClassifier\n",
    "rf = RandomForestClassifier(n_estimators=200)\n",
    "rf = rf.fit(X_train, y_train_categorical)\n",
    "rf.score(X_test, y_test_categorical)"
   ]
  },
  {
   "cell_type": "code",
   "execution_count": 75,
   "metadata": {},
   "outputs": [
    {
     "data": {
      "text/plain": [
       "[(0.1575341067649357, 'DD'),\n",
       " (0.10884846854324523, 'ALBÚMINA'),\n",
       " (0.1010943825423597, 'FIBRINÓGE0'),\n",
       " (0.0959228881960475, 'HEMOGLOBINA'),\n",
       " (0.06858106461661168, 'VSG'),\n",
       " (0.06245374303342568, 'SUPERVIVENCIA'),\n",
       " (0.05737948176284242, 'PLAQUETAS'),\n",
       " (0.05340698189223783, 'PCR'),\n",
       " (0.0414215465045581, 'KAR0FSKY'),\n",
       " (0.04133054957915291, 'FERRITINA'),\n",
       " (0.03938114081101752, 'LINFOCITOS'),\n",
       " (0.03724170907115125, 'LEUCOCITOS'),\n",
       " (0.031705995096371044, 'NIVEL SOCIOECONÓMICO'),\n",
       " (0.018688075603908297, 'ENF ONC AVANZADA'),\n",
       " (0.016777157027959167, 'FRAGILIDAD'),\n",
       " (0.01459660315175021, 'HAS'),\n",
       " (0.011781715707538077, 'DELIRIUM'),\n",
       " (0.011242099908998377, 'DIABETES'),\n",
       " (0.009396497118865539, 'DET. COGNITIVO'),\n",
       " (0.007323621809923377, 'OBE1DAD'),\n",
       " (0.004517215219421103, 'TABAQUISMO'),\n",
       " (0.0036077876984126987, 'ERC'),\n",
       " (0.003437424149924149, 'OBE1DAD.1'),\n",
       " (0.0011972789115646258, 'CARDIOPATIA'),\n",
       " (0.0011324652777777778, 'POLIFARMACIA')]"
      ]
     },
     "execution_count": 75,
     "metadata": {},
     "output_type": "execute_result"
    }
   ],
   "source": [
    "sorted(zip(rf.feature_importances_, feature_names), reverse=True)"
   ]
  },
  {
   "cell_type": "code",
   "execution_count": 76,
   "metadata": {},
   "outputs": [],
   "source": [
    "#Build lists for mean and SEM Value for radius and permiter values\n",
    "#Radius (Mean)\n",
    "radius_means = covid_df.loc[:, ['DIABETES']]\n",
    "radius_means = radius_means['DIABETES']\n",
    "\n",
    "#Perimeter (Worst)\n",
    "perimeter_means = covid_df.loc[:, ['CARDIOPATIA']]\n",
    "perimeter_means = perimeter_means['CARDIOPATIA']"
   ]
  },
  {
   "cell_type": "code",
   "execution_count": 79,
   "metadata": {},
   "outputs": [
    {
     "name": "stderr",
     "output_type": "stream",
     "text": [
      "No handles with labels found to put in legend.\n"
     ]
    },
    {
     "data": {
      "image/png": "[encoded data removed]",
      "text/plain": [
       "<Figure size 432x288 with 1 Axes>"
      ]
     },
     "metadata": {
      "needs_background": "light"
     },
     "output_type": "display_data"
    }
   ],
   "source": [
    "# Generate the Plot (with Error Bars)\n",
    "#Min/Max values for volume to determine limits on plot chart\n",
    "min_volume = covid_df.min()['DIABETES']\n",
    "max_volume = covid_df.max()['DIABETES']\n",
    "max_yvolume = covid_df.max()['CARDIOPATIA']\n",
    "\n",
    "#create additional white space on plot chart\n",
    "min_volume = min_volume - 1\n",
    "max_volume = max_volume + 1\n",
    "max_yvolume = max_yvolume + 2\n",
    "#Limits, background grid, title, labels\n",
    "plt.grid(True)\n",
    "\n",
    "plt.ylabel(\"CARDIOPATIA\")\n",
    "plt.xlabel(\"DIABETES\")\n",
    "plt.title(\"DIABETES vs DIABETES\")\n",
    "plt.scatter(radius_means, perimeter_means)\n",
    "plt.legend(frameon=True)\n",
    "plt.show()"
   ]
  },
  {
   "cell_type": "markdown",
   "metadata": {},
   "source": [
    "# SVM"
   ]
  },
  {
   "cell_type": "code",
   "execution_count": 80,
   "metadata": {},
   "outputs": [
    {
     "data": {
      "text/html": [
       "<div>\n",
       "<style scoped>\n",
       "    .dataframe tbody tr th:only-of-type {\n",
       "        vertical-align: middle;\n",
       "    }\n",
       "\n",
       "    .dataframe tbody tr th {\n",
       "        vertical-align: top;\n",
       "    }\n",
       "\n",
       "    .dataframe thead th {\n",
       "        text-align: right;\n",
       "    }\n",
       "</style>\n",
       "<table border=\"1\" class=\"dataframe\">\n",
       "  <thead>\n",
       "    <tr style=\"text-align: right;\">\n",
       "      <th></th>\n",
       "      <th>PACIENTE</th>\n",
       "      <th>DIAGNOSIS</th>\n",
       "      <th>NIVEL SOCIOECONÓMICO</th>\n",
       "      <th>DIABETES</th>\n",
       "      <th>HAS</th>\n",
       "      <th>TABAQUISMO</th>\n",
       "      <th>KAR0FSKY</th>\n",
       "      <th>DET. COGNITIVO</th>\n",
       "      <th>POLIFARMACIA</th>\n",
       "      <th>OBE1DAD</th>\n",
       "      <th>...</th>\n",
       "      <th>LINFOCITOS</th>\n",
       "      <th>PLAQUETAS</th>\n",
       "      <th>HEMOGLOBINA</th>\n",
       "      <th>VSG</th>\n",
       "      <th>PCR</th>\n",
       "      <th>DD</th>\n",
       "      <th>FIBRINÓGE0</th>\n",
       "      <th>ALBÚMINA</th>\n",
       "      <th>FERRITINA</th>\n",
       "      <th>SUPERVIVENCIA</th>\n",
       "    </tr>\n",
       "  </thead>\n",
       "  <tbody>\n",
       "    <tr>\n",
       "      <th>0</th>\n",
       "      <td>1</td>\n",
       "      <td>Malignant</td>\n",
       "      <td>1</td>\n",
       "      <td>0</td>\n",
       "      <td>0</td>\n",
       "      <td>0</td>\n",
       "      <td>100</td>\n",
       "      <td>0</td>\n",
       "      <td>0</td>\n",
       "      <td>0.00</td>\n",
       "      <td>...</td>\n",
       "      <td>0.24</td>\n",
       "      <td>48</td>\n",
       "      <td>9.7</td>\n",
       "      <td>50</td>\n",
       "      <td>27.16</td>\n",
       "      <td>13330</td>\n",
       "      <td>713</td>\n",
       "      <td>3.1</td>\n",
       "      <td>0.0</td>\n",
       "      <td>10</td>\n",
       "    </tr>\n",
       "    <tr>\n",
       "      <th>1</th>\n",
       "      <td>2</td>\n",
       "      <td>Benign</td>\n",
       "      <td>1</td>\n",
       "      <td>0</td>\n",
       "      <td>1</td>\n",
       "      <td>0</td>\n",
       "      <td>100</td>\n",
       "      <td>0</td>\n",
       "      <td>0</td>\n",
       "      <td>35.81</td>\n",
       "      <td>...</td>\n",
       "      <td>1.20</td>\n",
       "      <td>267</td>\n",
       "      <td>14.6</td>\n",
       "      <td>42</td>\n",
       "      <td>27.16</td>\n",
       "      <td>960</td>\n",
       "      <td>709</td>\n",
       "      <td>3.7</td>\n",
       "      <td>0.0</td>\n",
       "      <td>5</td>\n",
       "    </tr>\n",
       "    <tr>\n",
       "      <th>2</th>\n",
       "      <td>3</td>\n",
       "      <td>Malignant</td>\n",
       "      <td>1</td>\n",
       "      <td>0</td>\n",
       "      <td>0</td>\n",
       "      <td>1</td>\n",
       "      <td>50</td>\n",
       "      <td>1</td>\n",
       "      <td>0</td>\n",
       "      <td>0.00</td>\n",
       "      <td>...</td>\n",
       "      <td>0.60</td>\n",
       "      <td>33</td>\n",
       "      <td>13.9</td>\n",
       "      <td>42</td>\n",
       "      <td>16.51</td>\n",
       "      <td>26453</td>\n",
       "      <td>418</td>\n",
       "      <td>2.8</td>\n",
       "      <td>1473.0</td>\n",
       "      <td>4</td>\n",
       "    </tr>\n",
       "    <tr>\n",
       "      <th>3</th>\n",
       "      <td>4</td>\n",
       "      <td>Malignant</td>\n",
       "      <td>2</td>\n",
       "      <td>0</td>\n",
       "      <td>0</td>\n",
       "      <td>1</td>\n",
       "      <td>80</td>\n",
       "      <td>0</td>\n",
       "      <td>0</td>\n",
       "      <td>0.00</td>\n",
       "      <td>...</td>\n",
       "      <td>0.70</td>\n",
       "      <td>155</td>\n",
       "      <td>10.0</td>\n",
       "      <td>59</td>\n",
       "      <td>23.85</td>\n",
       "      <td>3580</td>\n",
       "      <td>640</td>\n",
       "      <td>2.5</td>\n",
       "      <td>0.0</td>\n",
       "      <td>15</td>\n",
       "    </tr>\n",
       "    <tr>\n",
       "      <th>4</th>\n",
       "      <td>5</td>\n",
       "      <td>Malignant</td>\n",
       "      <td>1</td>\n",
       "      <td>1</td>\n",
       "      <td>0</td>\n",
       "      <td>0</td>\n",
       "      <td>80</td>\n",
       "      <td>0</td>\n",
       "      <td>0</td>\n",
       "      <td>0.00</td>\n",
       "      <td>...</td>\n",
       "      <td>0.60</td>\n",
       "      <td>110</td>\n",
       "      <td>9.5</td>\n",
       "      <td>59</td>\n",
       "      <td>23.85</td>\n",
       "      <td>3580</td>\n",
       "      <td>640</td>\n",
       "      <td>2.5</td>\n",
       "      <td>0.0</td>\n",
       "      <td>15</td>\n",
       "    </tr>\n",
       "  </tbody>\n",
       "</table>\n",
       "<p>5 rows × 27 columns</p>\n",
       "</div>"
      ],
      "text/plain": [
       "   PACIENTE  DIAGNOSIS  NIVEL SOCIOECONÓMICO  DIABETES  HAS  TABAQUISMO  \\\n",
       "0         1  Malignant                     1         0    0           0   \n",
       "1         2     Benign                     1         0    1           0   \n",
       "2         3  Malignant                     1         0    0           1   \n",
       "3         4  Malignant                     2         0    0           1   \n",
       "4         5  Malignant                     1         1    0           0   \n",
       "\n",
       "   KAR0FSKY  DET. COGNITIVO  POLIFARMACIA  OBE1DAD  ...  LINFOCITOS  \\\n",
       "0       100               0             0     0.00  ...        0.24   \n",
       "1       100               0             0    35.81  ...        1.20   \n",
       "2        50               1             0     0.00  ...        0.60   \n",
       "3        80               0             0     0.00  ...        0.70   \n",
       "4        80               0             0     0.00  ...        0.60   \n",
       "\n",
       "   PLAQUETAS  HEMOGLOBINA  VSG    PCR     DD  FIBRINÓGE0  ALBÚMINA  FERRITINA  \\\n",
       "0         48          9.7   50  27.16  13330         713       3.1        0.0   \n",
       "1        267         14.6   42  27.16    960         709       3.7        0.0   \n",
       "2         33         13.9   42  16.51  26453         418       2.8     1473.0   \n",
       "3        155         10.0   59  23.85   3580         640       2.5        0.0   \n",
       "4        110          9.5   59  23.85   3580         640       2.5        0.0   \n",
       "\n",
       "   SUPERVIVENCIA  \n",
       "0             10  \n",
       "1              5  \n",
       "2              4  \n",
       "3             15  \n",
       "4             15  \n",
       "\n",
       "[5 rows x 27 columns]"
      ]
     },
     "execution_count": 80,
     "metadata": {},
     "output_type": "execute_result"
    }
   ],
   "source": [
    "covid_df.head()"
   ]
  },
  {
   "cell_type": "code",
   "execution_count": 81,
   "metadata": {},
   "outputs": [
    {
     "data": {
      "text/plain": [
       "SVC(C=1.0, break_ties=False, cache_size=200, class_weight=None, coef0=0.0,\n",
       "    decision_function_shape='ovr', degree=3, gamma='scale', kernel='linear',\n",
       "    max_iter=-1, probability=False, random_state=None, shrinking=True,\n",
       "    tol=0.001, verbose=False)"
      ]
     },
     "execution_count": 81,
     "metadata": {},
     "output_type": "execute_result"
    }
   ],
   "source": [
    "# Support vector machine linear classifier\n",
    "from sklearn.svm import SVC \n",
    "model = SVC(kernel='linear')\n",
    "model.fit(X_train, y_train)"
   ]
  },
  {
   "cell_type": "code",
   "execution_count": 82,
   "metadata": {},
   "outputs": [
    {
     "name": "stdout",
     "output_type": "stream",
     "text": [
      "Test Acc: 0.250\n"
     ]
    }
   ],
   "source": [
    "# Model Accuracy\n",
    "print('Test Acc: %.3f' % model.score(X_test, y_test))"
   ]
  },
  {
   "cell_type": "code",
   "execution_count": 83,
   "metadata": {},
   "outputs": [
    {
     "name": "stdout",
     "output_type": "stream",
     "text": [
      "              precision    recall  f1-score   support\n",
      "\n",
      "    negative       0.50      0.33      0.40         6\n",
      "    positive       0.00      0.00      0.00         2\n",
      "\n",
      "    accuracy                           0.25         8\n",
      "   macro avg       0.25      0.17      0.20         8\n",
      "weighted avg       0.38      0.25      0.30         8\n",
      "\n"
     ]
    }
   ],
   "source": [
    "\n",
    "# Calculate classification report\n",
    "from sklearn.metrics import classification_report\n",
    "predictions = model.predict(X_test)\n",
    "print(classification_report(y_test, predictions,\n",
    "                            target_names=target_names))"
   ]
  },
  {
   "cell_type": "markdown",
   "metadata": {},
   "source": [
    "# GridSearch"
   ]
  },
  {
   "cell_type": "code",
   "execution_count": 84,
   "metadata": {},
   "outputs": [],
   "source": [
    "# Support vector machine linear classifier\n",
    "from sklearn.svm import SVC \n",
    "model = SVC(kernel='linear')"
   ]
  },
  {
   "cell_type": "code",
   "execution_count": 85,
   "metadata": {},
   "outputs": [],
   "source": [
    "# Create the GridSearch estimator along with a parameter object containing the values to adjust\n",
    "from sklearn.model_selection import GridSearchCV\n",
    "param_grid = {'C': [1, 5, 10],\n",
    "              'gamma': [0.0001, 0.001, 0.01]}\n",
    "grid = GridSearchCV(model, param_grid, verbose=3)"
   ]
  },
  {
   "cell_type": "code",
   "execution_count": 86,
   "metadata": {},
   "outputs": [
    {
     "name": "stdout",
     "output_type": "stream",
     "text": [
      "Fitting 5 folds for each of 9 candidates, totalling 45 fits\n",
      "[CV] C=1, gamma=0.0001 ...............................................\n"
     ]
    },
    {
     "name": "stderr",
     "output_type": "stream",
     "text": [
      "[Parallel(n_jobs=1)]: Using backend SequentialBackend with 1 concurrent workers.\n"
     ]
    },
    {
     "name": "stdout",
     "output_type": "stream",
     "text": [
      "[CV] ................... C=1, gamma=0.0001, score=0.600, total=   0.8s\n",
      "[CV] C=1, gamma=0.0001 ...............................................\n"
     ]
    },
    {
     "name": "stderr",
     "output_type": "stream",
     "text": [
      "[Parallel(n_jobs=1)]: Done   1 out of   1 | elapsed:    0.8s remaining:    0.0s\n"
     ]
    },
    {
     "name": "stdout",
     "output_type": "stream",
     "text": [
      "[CV] ................... C=1, gamma=0.0001, score=0.800, total=   0.9s\n",
      "[CV] C=1, gamma=0.0001 ...............................................\n"
     ]
    },
    {
     "name": "stderr",
     "output_type": "stream",
     "text": [
      "[Parallel(n_jobs=1)]: Done   2 out of   2 | elapsed:    1.7s remaining:    0.0s\n"
     ]
    },
    {
     "name": "stdout",
     "output_type": "stream",
     "text": [
      "[CV] ................... C=1, gamma=0.0001, score=1.000, total=   0.9s\n",
      "[CV] C=1, gamma=0.0001 ...............................................\n",
      "[CV] ................... C=1, gamma=0.0001, score=0.750, total=   1.1s\n",
      "[CV] C=1, gamma=0.0001 ...............................................\n",
      "[CV] ................... C=1, gamma=0.0001, score=0.750, total=   1.1s\n",
      "[CV] C=1, gamma=0.001 ................................................\n",
      "[CV] .................... C=1, gamma=0.001, score=0.600, total=   0.8s\n",
      "[CV] C=1, gamma=0.001 ................................................\n",
      "[CV] .................... C=1, gamma=0.001, score=0.800, total=   0.9s\n",
      "[CV] C=1, gamma=0.001 ................................................\n",
      "[CV] .................... C=1, gamma=0.001, score=1.000, total=   0.7s\n",
      "[CV] C=1, gamma=0.001 ................................................\n",
      "[CV] .................... C=1, gamma=0.001, score=0.750, total=   1.0s\n",
      "[CV] C=1, gamma=0.001 ................................................\n",
      "[CV] .................... C=1, gamma=0.001, score=0.750, total=   1.0s\n",
      "[CV] C=1, gamma=0.01 .................................................\n",
      "[CV] ..................... C=1, gamma=0.01, score=0.600, total=   0.9s\n",
      "[CV] C=1, gamma=0.01 .................................................\n",
      "[CV] ..................... C=1, gamma=0.01, score=0.800, total=   0.9s\n",
      "[CV] C=1, gamma=0.01 .................................................\n",
      "[CV] ..................... C=1, gamma=0.01, score=1.000, total=   0.7s\n",
      "[CV] C=1, gamma=0.01 .................................................\n",
      "[CV] ..................... C=1, gamma=0.01, score=0.750, total=   1.0s\n",
      "[CV] C=1, gamma=0.01 .................................................\n",
      "[CV] ..................... C=1, gamma=0.01, score=0.750, total=   1.0s\n",
      "[CV] C=5, gamma=0.0001 ...............................................\n",
      "[CV] ................... C=5, gamma=0.0001, score=0.600, total=   0.8s\n",
      "[CV] C=5, gamma=0.0001 ...............................................\n",
      "[CV] ................... C=5, gamma=0.0001, score=0.800, total=   0.7s\n",
      "[CV] C=5, gamma=0.0001 ...............................................\n",
      "[CV] ................... C=5, gamma=0.0001, score=1.000, total=   0.7s\n",
      "[CV] C=5, gamma=0.0001 ...............................................\n",
      "[CV] ................... C=5, gamma=0.0001, score=0.750, total=   1.1s\n",
      "[CV] C=5, gamma=0.0001 ...............................................\n",
      "[CV] ................... C=5, gamma=0.0001, score=0.750, total=   1.0s\n",
      "[CV] C=5, gamma=0.001 ................................................\n",
      "[CV] .................... C=5, gamma=0.001, score=0.600, total=   0.7s\n",
      "[CV] C=5, gamma=0.001 ................................................\n",
      "[CV] .................... C=5, gamma=0.001, score=0.800, total=   0.7s\n",
      "[CV] C=5, gamma=0.001 ................................................\n",
      "[CV] .................... C=5, gamma=0.001, score=1.000, total=   0.7s\n",
      "[CV] C=5, gamma=0.001 ................................................\n",
      "[CV] .................... C=5, gamma=0.001, score=0.750, total=   0.9s\n",
      "[CV] C=5, gamma=0.001 ................................................\n",
      "[CV] .................... C=5, gamma=0.001, score=0.750, total=   0.9s\n",
      "[CV] C=5, gamma=0.01 .................................................\n",
      "[CV] ..................... C=5, gamma=0.01, score=0.600, total=   0.7s\n",
      "[CV] C=5, gamma=0.01 .................................................\n",
      "[CV] ..................... C=5, gamma=0.01, score=0.800, total=   0.7s\n",
      "[CV] C=5, gamma=0.01 .................................................\n",
      "[CV] ..................... C=5, gamma=0.01, score=1.000, total=   0.7s\n",
      "[CV] C=5, gamma=0.01 .................................................\n",
      "[CV] ..................... C=5, gamma=0.01, score=0.750, total=   0.9s\n",
      "[CV] C=5, gamma=0.01 .................................................\n",
      "[CV] ..................... C=5, gamma=0.01, score=0.750, total=   1.2s\n",
      "[CV] C=10, gamma=0.0001 ..............................................\n",
      "[CV] .................. C=10, gamma=0.0001, score=0.600, total=   0.8s\n",
      "[CV] C=10, gamma=0.0001 ..............................................\n",
      "[CV] .................. C=10, gamma=0.0001, score=0.800, total=   0.8s\n",
      "[CV] C=10, gamma=0.0001 ..............................................\n",
      "[CV] .................. C=10, gamma=0.0001, score=1.000, total=   0.9s\n",
      "[CV] C=10, gamma=0.0001 ..............................................\n",
      "[CV] .................. C=10, gamma=0.0001, score=0.750, total=   1.1s\n",
      "[CV] C=10, gamma=0.0001 ..............................................\n",
      "[CV] .................. C=10, gamma=0.0001, score=0.750, total=   0.9s\n",
      "[CV] C=10, gamma=0.001 ...............................................\n",
      "[CV] ................... C=10, gamma=0.001, score=0.600, total=   0.9s\n",
      "[CV] C=10, gamma=0.001 ...............................................\n",
      "[CV] ................... C=10, gamma=0.001, score=0.800, total=   0.8s\n",
      "[CV] C=10, gamma=0.001 ...............................................\n",
      "[CV] ................... C=10, gamma=0.001, score=1.000, total=   0.9s\n",
      "[CV] C=10, gamma=0.001 ...............................................\n",
      "[CV] ................... C=10, gamma=0.001, score=0.750, total=   1.2s\n",
      "[CV] C=10, gamma=0.001 ...............................................\n",
      "[CV] ................... C=10, gamma=0.001, score=0.750, total=   1.1s\n",
      "[CV] C=10, gamma=0.01 ................................................\n",
      "[CV] .................... C=10, gamma=0.01, score=0.600, total=   0.8s\n",
      "[CV] C=10, gamma=0.01 ................................................\n",
      "[CV] .................... C=10, gamma=0.01, score=0.800, total=   0.8s\n",
      "[CV] C=10, gamma=0.01 ................................................\n",
      "[CV] .................... C=10, gamma=0.01, score=1.000, total=   0.9s\n",
      "[CV] C=10, gamma=0.01 ................................................\n",
      "[CV] .................... C=10, gamma=0.01, score=0.750, total=   1.0s\n",
      "[CV] C=10, gamma=0.01 ................................................\n",
      "[CV] .................... C=10, gamma=0.01, score=0.750, total=   0.9s\n"
     ]
    },
    {
     "name": "stderr",
     "output_type": "stream",
     "text": [
      "[Parallel(n_jobs=1)]: Done  45 out of  45 | elapsed:   39.9s finished\n"
     ]
    },
    {
     "data": {
      "text/plain": [
       "GridSearchCV(cv=None, error_score=nan,\n",
       "             estimator=SVC(C=1.0, break_ties=False, cache_size=200,\n",
       "                           class_weight=None, coef0=0.0,\n",
       "                           decision_function_shape='ovr', degree=3,\n",
       "                           gamma='scale', kernel='linear', max_iter=-1,\n",
       "                           probability=False, random_state=None, shrinking=True,\n",
       "                           tol=0.001, verbose=False),\n",
       "             iid='deprecated', n_jobs=None,\n",
       "             param_grid={'C': [1, 5, 10], 'gamma': [0.0001, 0.001, 0.01]},\n",
       "             pre_dispatch='2*n_jobs', refit=True, return_train_score=False,\n",
       "             scoring=None, verbose=3)"
      ]
     },
     "execution_count": 86,
     "metadata": {},
     "output_type": "execute_result"
    }
   ],
   "source": [
    "# Fit the model using the grid search estimator. \n",
    "# This will take the SVC model and try each combination of parameters\n",
    "grid.fit(X_train, y_train)"
   ]
  },
  {
   "cell_type": "code",
   "execution_count": 87,
   "metadata": {},
   "outputs": [
    {
     "name": "stdout",
     "output_type": "stream",
     "text": [
      "{'C': 1, 'gamma': 0.0001}\n"
     ]
    }
   ],
   "source": [
    "\n",
    "# List the best parameters for this dataset\n",
    "print(grid.best_params_)"
   ]
  },
  {
   "cell_type": "code",
   "execution_count": 88,
   "metadata": {},
   "outputs": [
    {
     "name": "stdout",
     "output_type": "stream",
     "text": [
      "0.78\n"
     ]
    }
   ],
   "source": [
    "\n",
    "# List the best score\n",
    "print(grid.best_score_)"
   ]
  },
  {
   "cell_type": "code",
   "execution_count": 89,
   "metadata": {},
   "outputs": [],
   "source": [
    "# Make predictions with the hypertuned model\n",
    "predictions = grid.predict(X_test)"
   ]
  },
  {
   "cell_type": "code",
   "execution_count": 90,
   "metadata": {},
   "outputs": [
    {
     "name": "stdout",
     "output_type": "stream",
     "text": [
      "              precision    recall  f1-score   support\n",
      "\n",
      "        blue       0.50      0.33      0.40         6\n",
      "         red       0.00      0.00      0.00         2\n",
      "\n",
      "    accuracy                           0.25         8\n",
      "   macro avg       0.25      0.17      0.20         8\n",
      "weighted avg       0.38      0.25      0.30         8\n",
      "\n"
     ]
    }
   ],
   "source": [
    "# Calculate classification report\n",
    "from sklearn.metrics import classification_report\n",
    "print(classification_report(y_test, predictions,\n",
    "                            target_names=[\"blue\", \"red\"]))"
   ]
  },
  {
   "cell_type": "markdown",
   "metadata": {},
   "source": [
    "# NN"
   ]
  },
  {
   "cell_type": "code",
   "execution_count": 91,
   "metadata": {},
   "outputs": [
    {
     "data": {
      "text/html": [
       "<div>\n",
       "<style scoped>\n",
       "    .dataframe tbody tr th:only-of-type {\n",
       "        vertical-align: middle;\n",
       "    }\n",
       "\n",
       "    .dataframe tbody tr th {\n",
       "        vertical-align: top;\n",
       "    }\n",
       "\n",
       "    .dataframe thead th {\n",
       "        text-align: right;\n",
       "    }\n",
       "</style>\n",
       "<table border=\"1\" class=\"dataframe\">\n",
       "  <thead>\n",
       "    <tr style=\"text-align: right;\">\n",
       "      <th></th>\n",
       "      <th>PACIENTE</th>\n",
       "      <th>DIAGNOSIS</th>\n",
       "      <th>NIVEL SOCIOECONÓMICO</th>\n",
       "      <th>DIABETES</th>\n",
       "      <th>HAS</th>\n",
       "      <th>TABAQUISMO</th>\n",
       "      <th>KAR0FSKY</th>\n",
       "      <th>DET. COGNITIVO</th>\n",
       "      <th>POLIFARMACIA</th>\n",
       "      <th>OBE1DAD</th>\n",
       "      <th>...</th>\n",
       "      <th>LINFOCITOS</th>\n",
       "      <th>PLAQUETAS</th>\n",
       "      <th>HEMOGLOBINA</th>\n",
       "      <th>VSG</th>\n",
       "      <th>PCR</th>\n",
       "      <th>DD</th>\n",
       "      <th>FIBRINÓGE0</th>\n",
       "      <th>ALBÚMINA</th>\n",
       "      <th>FERRITINA</th>\n",
       "      <th>SUPERVIVENCIA</th>\n",
       "    </tr>\n",
       "  </thead>\n",
       "  <tbody>\n",
       "    <tr>\n",
       "      <th>0</th>\n",
       "      <td>1</td>\n",
       "      <td>Malignant</td>\n",
       "      <td>1</td>\n",
       "      <td>0</td>\n",
       "      <td>0</td>\n",
       "      <td>0</td>\n",
       "      <td>100</td>\n",
       "      <td>0</td>\n",
       "      <td>0</td>\n",
       "      <td>0.00</td>\n",
       "      <td>...</td>\n",
       "      <td>0.24</td>\n",
       "      <td>48</td>\n",
       "      <td>9.7</td>\n",
       "      <td>50</td>\n",
       "      <td>27.16</td>\n",
       "      <td>13330</td>\n",
       "      <td>713</td>\n",
       "      <td>3.1</td>\n",
       "      <td>0.0</td>\n",
       "      <td>10</td>\n",
       "    </tr>\n",
       "    <tr>\n",
       "      <th>1</th>\n",
       "      <td>2</td>\n",
       "      <td>Benign</td>\n",
       "      <td>1</td>\n",
       "      <td>0</td>\n",
       "      <td>1</td>\n",
       "      <td>0</td>\n",
       "      <td>100</td>\n",
       "      <td>0</td>\n",
       "      <td>0</td>\n",
       "      <td>35.81</td>\n",
       "      <td>...</td>\n",
       "      <td>1.20</td>\n",
       "      <td>267</td>\n",
       "      <td>14.6</td>\n",
       "      <td>42</td>\n",
       "      <td>27.16</td>\n",
       "      <td>960</td>\n",
       "      <td>709</td>\n",
       "      <td>3.7</td>\n",
       "      <td>0.0</td>\n",
       "      <td>5</td>\n",
       "    </tr>\n",
       "    <tr>\n",
       "      <th>2</th>\n",
       "      <td>3</td>\n",
       "      <td>Malignant</td>\n",
       "      <td>1</td>\n",
       "      <td>0</td>\n",
       "      <td>0</td>\n",
       "      <td>1</td>\n",
       "      <td>50</td>\n",
       "      <td>1</td>\n",
       "      <td>0</td>\n",
       "      <td>0.00</td>\n",
       "      <td>...</td>\n",
       "      <td>0.60</td>\n",
       "      <td>33</td>\n",
       "      <td>13.9</td>\n",
       "      <td>42</td>\n",
       "      <td>16.51</td>\n",
       "      <td>26453</td>\n",
       "      <td>418</td>\n",
       "      <td>2.8</td>\n",
       "      <td>1473.0</td>\n",
       "      <td>4</td>\n",
       "    </tr>\n",
       "    <tr>\n",
       "      <th>3</th>\n",
       "      <td>4</td>\n",
       "      <td>Malignant</td>\n",
       "      <td>2</td>\n",
       "      <td>0</td>\n",
       "      <td>0</td>\n",
       "      <td>1</td>\n",
       "      <td>80</td>\n",
       "      <td>0</td>\n",
       "      <td>0</td>\n",
       "      <td>0.00</td>\n",
       "      <td>...</td>\n",
       "      <td>0.70</td>\n",
       "      <td>155</td>\n",
       "      <td>10.0</td>\n",
       "      <td>59</td>\n",
       "      <td>23.85</td>\n",
       "      <td>3580</td>\n",
       "      <td>640</td>\n",
       "      <td>2.5</td>\n",
       "      <td>0.0</td>\n",
       "      <td>15</td>\n",
       "    </tr>\n",
       "    <tr>\n",
       "      <th>4</th>\n",
       "      <td>5</td>\n",
       "      <td>Malignant</td>\n",
       "      <td>1</td>\n",
       "      <td>1</td>\n",
       "      <td>0</td>\n",
       "      <td>0</td>\n",
       "      <td>80</td>\n",
       "      <td>0</td>\n",
       "      <td>0</td>\n",
       "      <td>0.00</td>\n",
       "      <td>...</td>\n",
       "      <td>0.60</td>\n",
       "      <td>110</td>\n",
       "      <td>9.5</td>\n",
       "      <td>59</td>\n",
       "      <td>23.85</td>\n",
       "      <td>3580</td>\n",
       "      <td>640</td>\n",
       "      <td>2.5</td>\n",
       "      <td>0.0</td>\n",
       "      <td>15</td>\n",
       "    </tr>\n",
       "  </tbody>\n",
       "</table>\n",
       "<p>5 rows × 27 columns</p>\n",
       "</div>"
      ],
      "text/plain": [
       "   PACIENTE  DIAGNOSIS  NIVEL SOCIOECONÓMICO  DIABETES  HAS  TABAQUISMO  \\\n",
       "0         1  Malignant                     1         0    0           0   \n",
       "1         2     Benign                     1         0    1           0   \n",
       "2         3  Malignant                     1         0    0           1   \n",
       "3         4  Malignant                     2         0    0           1   \n",
       "4         5  Malignant                     1         1    0           0   \n",
       "\n",
       "   KAR0FSKY  DET. COGNITIVO  POLIFARMACIA  OBE1DAD  ...  LINFOCITOS  \\\n",
       "0       100               0             0     0.00  ...        0.24   \n",
       "1       100               0             0    35.81  ...        1.20   \n",
       "2        50               1             0     0.00  ...        0.60   \n",
       "3        80               0             0     0.00  ...        0.70   \n",
       "4        80               0             0     0.00  ...        0.60   \n",
       "\n",
       "   PLAQUETAS  HEMOGLOBINA  VSG    PCR     DD  FIBRINÓGE0  ALBÚMINA  FERRITINA  \\\n",
       "0         48          9.7   50  27.16  13330         713       3.1        0.0   \n",
       "1        267         14.6   42  27.16    960         709       3.7        0.0   \n",
       "2         33         13.9   42  16.51  26453         418       2.8     1473.0   \n",
       "3        155         10.0   59  23.85   3580         640       2.5        0.0   \n",
       "4        110          9.5   59  23.85   3580         640       2.5        0.0   \n",
       "\n",
       "   SUPERVIVENCIA  \n",
       "0             10  \n",
       "1              5  \n",
       "2              4  \n",
       "3             15  \n",
       "4             15  \n",
       "\n",
       "[5 rows x 27 columns]"
      ]
     },
     "execution_count": 91,
     "metadata": {},
     "output_type": "execute_result"
    }
   ],
   "source": [
    "covid_df.head()"
   ]
  },
  {
   "cell_type": "code",
   "execution_count": 92,
   "metadata": {},
   "outputs": [],
   "source": [
    "# Step 0: Reformat data\n",
    "data = covid_df.values\n",
    "X = data[:, 2:35]\n",
    "y = data[:, 1]"
   ]
  },
  {
   "cell_type": "code",
   "execution_count": 93,
   "metadata": {},
   "outputs": [],
   "source": [
    "\n",
    "from sklearn.preprocessing import LabelEncoder\n",
    "\n",
    "# Step 1: Label-encode data set\n",
    "label_encoder = LabelEncoder()\n",
    "label_encoder.fit(y_train)\n",
    "encoded_y_train = label_encoder.transform(y_train)"
   ]
  },
  {
   "cell_type": "code",
   "execution_count": 94,
   "metadata": {},
   "outputs": [],
   "source": [
    "\n",
    "from sklearn.preprocessing import LabelEncoder\n",
    "\n",
    "# Step 1: Label-encode data set\n",
    "label_encoder = LabelEncoder()\n",
    "label_encoder.fit(y_test)\n",
    "encoded_y_test = label_encoder.transform(y_test)"
   ]
  },
  {
   "cell_type": "code",
   "execution_count": 95,
   "metadata": {},
   "outputs": [],
   "source": [
    "from keras.utils import to_categorical\n",
    "\n",
    "# Step 2: One-hot encoding\n",
    "y_train_categorical = to_categorical(encoded_y_train)\n",
    "y_test_categorical = to_categorical(encoded_y_test)"
   ]
  },
  {
   "cell_type": "code",
   "execution_count": 96,
   "metadata": {},
   "outputs": [],
   "source": [
    "\n",
    "from sklearn.preprocessing import StandardScaler\n",
    "X_scaler = StandardScaler().fit(X_train)"
   ]
  },
  {
   "cell_type": "code",
   "execution_count": 97,
   "metadata": {},
   "outputs": [
    {
     "name": "stdout",
     "output_type": "stream",
     "text": [
      "(22, 25)\n"
     ]
    }
   ],
   "source": [
    "print(X_train.shape)"
   ]
  },
  {
   "cell_type": "code",
   "execution_count": 98,
   "metadata": {},
   "outputs": [],
   "source": [
    "\n",
    "X_train_scaled = X_scaler.transform(X_train)\n",
    "X_test_scaled = X_scaler.transform(X_test)"
   ]
  },
  {
   "cell_type": "code",
   "execution_count": 99,
   "metadata": {},
   "outputs": [],
   "source": [
    "from tensorflow.keras.models import Sequential\n",
    "\n",
    "model = Sequential()"
   ]
  },
  {
   "cell_type": "code",
   "execution_count": 100,
   "metadata": {},
   "outputs": [],
   "source": [
    "from tensorflow.keras.layers import Dense\n",
    "number_inputs = 30\n",
    "number_hidden_nodes = 4\n",
    "model.add(Dense(units=number_hidden_nodes,\n",
    "                activation='relu', input_dim=number_inputs))"
   ]
  },
  {
   "cell_type": "code",
   "execution_count": 101,
   "metadata": {},
   "outputs": [],
   "source": [
    "\n",
    "number_classes = 2\n",
    "model.add(Dense(units=6, activation='relu', input_dim=2))\n",
    "model.add(Dense(units=6, activation='relu'))\n",
    "model.add(Dense(units=number_classes, activation='softmax'))"
   ]
  },
  {
   "cell_type": "code",
   "execution_count": 102,
   "metadata": {},
   "outputs": [
    {
     "name": "stdout",
     "output_type": "stream",
     "text": [
      "Model: \"sequential\"\n",
      "_________________________________________________________________\n",
      "Layer (type)                 Output Shape              Param #   \n",
      "=================================================================\n",
      "dense (Dense)                (None, 4)                 124       \n",
      "_________________________________________________________________\n",
      "dense_1 (Dense)              (None, 6)                 30        \n",
      "_________________________________________________________________\n",
      "dense_2 (Dense)              (None, 6)                 42        \n",
      "_________________________________________________________________\n",
      "dense_3 (Dense)              (None, 2)                 14        \n",
      "=================================================================\n",
      "Total params: 210\n",
      "Trainable params: 210\n",
      "Non-trainable params: 0\n",
      "_________________________________________________________________\n"
     ]
    }
   ],
   "source": [
    "model.summary()"
   ]
  },
  {
   "cell_type": "code",
   "execution_count": 103,
   "metadata": {},
   "outputs": [],
   "source": [
    "# Use categorical crossentropy for categorical data and mean squared error for regression\n",
    "# Hint: your output layer in this example is using software for logistic regression (categorical)\n",
    "# If your output layer activation was `linear` then you may want to use `mse` for loss\n",
    "model.compile(optimizer='adam',\n",
    "              loss='categorical_crossentropy',\n",
    "              metrics=['accuracy'])"
   ]
  },
  {
   "cell_type": "code",
   "execution_count": 104,
   "metadata": {},
   "outputs": [
    {
     "name": "stdout",
     "output_type": "stream",
     "text": [
      "(22, 25)\n",
      "(22, 2)\n"
     ]
    }
   ],
   "source": [
    "print(X_train_scaled.shape)\n",
    "print(y_train_categorical.shape)"
   ]
  },
  {
   "cell_type": "code",
   "execution_count": 111,
   "metadata": {},
   "outputs": [],
   "source": [
    "# Fit (train) the model\n",
    "# model.fit(X_train_scaled,y_train_categorical,epochs=50,shuffle=True,verbose=50)"
   ]
  },
  {
   "cell_type": "code",
   "execution_count": null,
   "metadata": {},
   "outputs": [],
   "source": [
    "\n",
    "# Evaluate the model using the testing data\n",
    "# model_loss, model_accuracy = model.evaluate(\n",
    "    X_test_scaled, y_test_categorical, verbose=2)\n",
    "# print(f\"Loss: {model_loss}, Accuracy: {model_accuracy}\")"
   ]
  }
 ],
 "metadata": {
  "kernelspec": {
   "display_name": "Python 3",
   "language": "python",
   "name": "python3"
  },
  "language_info": {
   "codemirror_mode": {
    "name": "ipython",
    "version": 3
   },
   "file_extension": ".py",
   "mimetype": "text/x-python",
   "name": "python",
   "nbconvert_exporter": "python",
   "pygments_lexer": "ipython3",
   "version": "3.7.6"
  }
 },
 "nbformat": 4,
 "nbformat_minor": 4
}
